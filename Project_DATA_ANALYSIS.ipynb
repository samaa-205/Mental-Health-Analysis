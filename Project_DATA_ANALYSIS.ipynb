{
 "cells": [
  {
   "cell_type": "markdown",
   "id": "3bbfe0d6",
   "metadata": {},
   "source": [
    "# Importing Libraries"
   ]
  },
  {
   "cell_type": "code",
   "execution_count": 66,
   "id": "1ba84503",
   "metadata": {},
   "outputs": [],
   "source": [
    "# importing libraries\n",
    "import pandas as pd\n",
    "import numpy as np\n",
    "import matplotlib.pyplot as plt\n",
    "import seaborn as sb\n",
    "import matplotlib.pyplot as mp\n",
    "from matplotlib import rcParams\n",
    "%matplotlib inline"
   ]
  },
  {
   "cell_type": "markdown",
   "id": "348c43ed",
   "metadata": {},
   "source": [
    "#  Using Our Data"
   ]
  },
  {
   "cell_type": "code",
   "execution_count": 67,
   "id": "3f24aec7",
   "metadata": {},
   "outputs": [],
   "source": [
    "df = pd.read_csv('survey.csv')"
   ]
  },
  {
   "cell_type": "code",
   "execution_count": 68,
   "id": "abd701b9",
   "metadata": {},
   "outputs": [
    {
     "data": {
      "text/html": [
       "<div>\n",
       "<style scoped>\n",
       "    .dataframe tbody tr th:only-of-type {\n",
       "        vertical-align: middle;\n",
       "    }\n",
       "\n",
       "    .dataframe tbody tr th {\n",
       "        vertical-align: top;\n",
       "    }\n",
       "\n",
       "    .dataframe thead th {\n",
       "        text-align: right;\n",
       "    }\n",
       "</style>\n",
       "<table border=\"1\" class=\"dataframe\">\n",
       "  <thead>\n",
       "    <tr style=\"text-align: right;\">\n",
       "      <th></th>\n",
       "      <th>Timestamp</th>\n",
       "      <th>Age</th>\n",
       "      <th>Gender</th>\n",
       "      <th>Country</th>\n",
       "      <th>state</th>\n",
       "      <th>self_employed</th>\n",
       "      <th>family_history</th>\n",
       "      <th>treatment</th>\n",
       "      <th>work_interfere</th>\n",
       "      <th>no_employees</th>\n",
       "      <th>...</th>\n",
       "      <th>leave</th>\n",
       "      <th>mental_health_consequence</th>\n",
       "      <th>phys_health_consequence</th>\n",
       "      <th>coworkers</th>\n",
       "      <th>supervisor</th>\n",
       "      <th>mental_health_interview</th>\n",
       "      <th>phys_health_interview</th>\n",
       "      <th>mental_vs_physical</th>\n",
       "      <th>obs_consequence</th>\n",
       "      <th>comments</th>\n",
       "    </tr>\n",
       "  </thead>\n",
       "  <tbody>\n",
       "    <tr>\n",
       "      <th>0</th>\n",
       "      <td>2014-08-27 11:29:31</td>\n",
       "      <td>37</td>\n",
       "      <td>Female</td>\n",
       "      <td>United States</td>\n",
       "      <td>IL</td>\n",
       "      <td>NaN</td>\n",
       "      <td>No</td>\n",
       "      <td>Yes</td>\n",
       "      <td>Often</td>\n",
       "      <td>6-25</td>\n",
       "      <td>...</td>\n",
       "      <td>Somewhat easy</td>\n",
       "      <td>No</td>\n",
       "      <td>No</td>\n",
       "      <td>Some of them</td>\n",
       "      <td>Yes</td>\n",
       "      <td>No</td>\n",
       "      <td>Maybe</td>\n",
       "      <td>Yes</td>\n",
       "      <td>No</td>\n",
       "      <td>NaN</td>\n",
       "    </tr>\n",
       "    <tr>\n",
       "      <th>1</th>\n",
       "      <td>2014-08-27 11:29:37</td>\n",
       "      <td>44</td>\n",
       "      <td>M</td>\n",
       "      <td>United States</td>\n",
       "      <td>IN</td>\n",
       "      <td>NaN</td>\n",
       "      <td>No</td>\n",
       "      <td>No</td>\n",
       "      <td>Rarely</td>\n",
       "      <td>More than 1000</td>\n",
       "      <td>...</td>\n",
       "      <td>Don't know</td>\n",
       "      <td>Maybe</td>\n",
       "      <td>No</td>\n",
       "      <td>No</td>\n",
       "      <td>No</td>\n",
       "      <td>No</td>\n",
       "      <td>No</td>\n",
       "      <td>Don't know</td>\n",
       "      <td>No</td>\n",
       "      <td>NaN</td>\n",
       "    </tr>\n",
       "    <tr>\n",
       "      <th>2</th>\n",
       "      <td>2014-08-27 11:29:44</td>\n",
       "      <td>32</td>\n",
       "      <td>Male</td>\n",
       "      <td>Canada</td>\n",
       "      <td>NaN</td>\n",
       "      <td>NaN</td>\n",
       "      <td>No</td>\n",
       "      <td>No</td>\n",
       "      <td>Rarely</td>\n",
       "      <td>6-25</td>\n",
       "      <td>...</td>\n",
       "      <td>Somewhat difficult</td>\n",
       "      <td>No</td>\n",
       "      <td>No</td>\n",
       "      <td>Yes</td>\n",
       "      <td>Yes</td>\n",
       "      <td>Yes</td>\n",
       "      <td>Yes</td>\n",
       "      <td>No</td>\n",
       "      <td>No</td>\n",
       "      <td>NaN</td>\n",
       "    </tr>\n",
       "    <tr>\n",
       "      <th>3</th>\n",
       "      <td>2014-08-27 11:29:46</td>\n",
       "      <td>31</td>\n",
       "      <td>Male</td>\n",
       "      <td>United Kingdom</td>\n",
       "      <td>NaN</td>\n",
       "      <td>NaN</td>\n",
       "      <td>Yes</td>\n",
       "      <td>Yes</td>\n",
       "      <td>Often</td>\n",
       "      <td>26-100</td>\n",
       "      <td>...</td>\n",
       "      <td>Somewhat difficult</td>\n",
       "      <td>Yes</td>\n",
       "      <td>Yes</td>\n",
       "      <td>Some of them</td>\n",
       "      <td>No</td>\n",
       "      <td>Maybe</td>\n",
       "      <td>Maybe</td>\n",
       "      <td>No</td>\n",
       "      <td>Yes</td>\n",
       "      <td>NaN</td>\n",
       "    </tr>\n",
       "    <tr>\n",
       "      <th>4</th>\n",
       "      <td>2014-08-27 11:30:22</td>\n",
       "      <td>31</td>\n",
       "      <td>Male</td>\n",
       "      <td>United States</td>\n",
       "      <td>TX</td>\n",
       "      <td>NaN</td>\n",
       "      <td>No</td>\n",
       "      <td>No</td>\n",
       "      <td>Never</td>\n",
       "      <td>100-500</td>\n",
       "      <td>...</td>\n",
       "      <td>Don't know</td>\n",
       "      <td>No</td>\n",
       "      <td>No</td>\n",
       "      <td>Some of them</td>\n",
       "      <td>Yes</td>\n",
       "      <td>Yes</td>\n",
       "      <td>Yes</td>\n",
       "      <td>Don't know</td>\n",
       "      <td>No</td>\n",
       "      <td>NaN</td>\n",
       "    </tr>\n",
       "    <tr>\n",
       "      <th>...</th>\n",
       "      <td>...</td>\n",
       "      <td>...</td>\n",
       "      <td>...</td>\n",
       "      <td>...</td>\n",
       "      <td>...</td>\n",
       "      <td>...</td>\n",
       "      <td>...</td>\n",
       "      <td>...</td>\n",
       "      <td>...</td>\n",
       "      <td>...</td>\n",
       "      <td>...</td>\n",
       "      <td>...</td>\n",
       "      <td>...</td>\n",
       "      <td>...</td>\n",
       "      <td>...</td>\n",
       "      <td>...</td>\n",
       "      <td>...</td>\n",
       "      <td>...</td>\n",
       "      <td>...</td>\n",
       "      <td>...</td>\n",
       "      <td>...</td>\n",
       "    </tr>\n",
       "    <tr>\n",
       "      <th>1254</th>\n",
       "      <td>2015-09-12 11:17:21</td>\n",
       "      <td>26</td>\n",
       "      <td>male</td>\n",
       "      <td>United Kingdom</td>\n",
       "      <td>NaN</td>\n",
       "      <td>No</td>\n",
       "      <td>No</td>\n",
       "      <td>Yes</td>\n",
       "      <td>NaN</td>\n",
       "      <td>26-100</td>\n",
       "      <td>...</td>\n",
       "      <td>Somewhat easy</td>\n",
       "      <td>No</td>\n",
       "      <td>No</td>\n",
       "      <td>Some of them</td>\n",
       "      <td>Some of them</td>\n",
       "      <td>No</td>\n",
       "      <td>No</td>\n",
       "      <td>Don't know</td>\n",
       "      <td>No</td>\n",
       "      <td>NaN</td>\n",
       "    </tr>\n",
       "    <tr>\n",
       "      <th>1255</th>\n",
       "      <td>2015-09-26 01:07:35</td>\n",
       "      <td>32</td>\n",
       "      <td>Male</td>\n",
       "      <td>United States</td>\n",
       "      <td>IL</td>\n",
       "      <td>No</td>\n",
       "      <td>Yes</td>\n",
       "      <td>Yes</td>\n",
       "      <td>Often</td>\n",
       "      <td>26-100</td>\n",
       "      <td>...</td>\n",
       "      <td>Somewhat difficult</td>\n",
       "      <td>No</td>\n",
       "      <td>No</td>\n",
       "      <td>Some of them</td>\n",
       "      <td>Yes</td>\n",
       "      <td>No</td>\n",
       "      <td>No</td>\n",
       "      <td>Yes</td>\n",
       "      <td>No</td>\n",
       "      <td>NaN</td>\n",
       "    </tr>\n",
       "    <tr>\n",
       "      <th>1256</th>\n",
       "      <td>2015-11-07 12:36:58</td>\n",
       "      <td>34</td>\n",
       "      <td>male</td>\n",
       "      <td>United States</td>\n",
       "      <td>CA</td>\n",
       "      <td>No</td>\n",
       "      <td>Yes</td>\n",
       "      <td>Yes</td>\n",
       "      <td>Sometimes</td>\n",
       "      <td>More than 1000</td>\n",
       "      <td>...</td>\n",
       "      <td>Somewhat difficult</td>\n",
       "      <td>Yes</td>\n",
       "      <td>Yes</td>\n",
       "      <td>No</td>\n",
       "      <td>No</td>\n",
       "      <td>No</td>\n",
       "      <td>No</td>\n",
       "      <td>No</td>\n",
       "      <td>No</td>\n",
       "      <td>NaN</td>\n",
       "    </tr>\n",
       "    <tr>\n",
       "      <th>1257</th>\n",
       "      <td>2015-11-30 21:25:06</td>\n",
       "      <td>46</td>\n",
       "      <td>f</td>\n",
       "      <td>United States</td>\n",
       "      <td>NC</td>\n",
       "      <td>No</td>\n",
       "      <td>No</td>\n",
       "      <td>No</td>\n",
       "      <td>NaN</td>\n",
       "      <td>100-500</td>\n",
       "      <td>...</td>\n",
       "      <td>Don't know</td>\n",
       "      <td>Yes</td>\n",
       "      <td>No</td>\n",
       "      <td>No</td>\n",
       "      <td>No</td>\n",
       "      <td>No</td>\n",
       "      <td>No</td>\n",
       "      <td>No</td>\n",
       "      <td>No</td>\n",
       "      <td>NaN</td>\n",
       "    </tr>\n",
       "    <tr>\n",
       "      <th>1258</th>\n",
       "      <td>2016-02-01 23:04:31</td>\n",
       "      <td>25</td>\n",
       "      <td>Male</td>\n",
       "      <td>United States</td>\n",
       "      <td>IL</td>\n",
       "      <td>No</td>\n",
       "      <td>Yes</td>\n",
       "      <td>Yes</td>\n",
       "      <td>Sometimes</td>\n",
       "      <td>26-100</td>\n",
       "      <td>...</td>\n",
       "      <td>Don't know</td>\n",
       "      <td>Maybe</td>\n",
       "      <td>No</td>\n",
       "      <td>Some of them</td>\n",
       "      <td>No</td>\n",
       "      <td>No</td>\n",
       "      <td>No</td>\n",
       "      <td>Don't know</td>\n",
       "      <td>No</td>\n",
       "      <td>NaN</td>\n",
       "    </tr>\n",
       "  </tbody>\n",
       "</table>\n",
       "<p>1259 rows × 27 columns</p>\n",
       "</div>"
      ],
      "text/plain": [
       "                Timestamp  Age  Gender         Country state self_employed  \\\n",
       "0     2014-08-27 11:29:31   37  Female   United States    IL           NaN   \n",
       "1     2014-08-27 11:29:37   44       M   United States    IN           NaN   \n",
       "2     2014-08-27 11:29:44   32    Male          Canada   NaN           NaN   \n",
       "3     2014-08-27 11:29:46   31    Male  United Kingdom   NaN           NaN   \n",
       "4     2014-08-27 11:30:22   31    Male   United States    TX           NaN   \n",
       "...                   ...  ...     ...             ...   ...           ...   \n",
       "1254  2015-09-12 11:17:21   26    male  United Kingdom   NaN            No   \n",
       "1255  2015-09-26 01:07:35   32    Male   United States    IL            No   \n",
       "1256  2015-11-07 12:36:58   34    male   United States    CA            No   \n",
       "1257  2015-11-30 21:25:06   46       f   United States    NC            No   \n",
       "1258  2016-02-01 23:04:31   25    Male   United States    IL            No   \n",
       "\n",
       "     family_history treatment work_interfere    no_employees  ...  \\\n",
       "0                No       Yes          Often            6-25  ...   \n",
       "1                No        No         Rarely  More than 1000  ...   \n",
       "2                No        No         Rarely            6-25  ...   \n",
       "3               Yes       Yes          Often          26-100  ...   \n",
       "4                No        No          Never         100-500  ...   \n",
       "...             ...       ...            ...             ...  ...   \n",
       "1254             No       Yes            NaN          26-100  ...   \n",
       "1255            Yes       Yes          Often          26-100  ...   \n",
       "1256            Yes       Yes      Sometimes  More than 1000  ...   \n",
       "1257             No        No            NaN         100-500  ...   \n",
       "1258            Yes       Yes      Sometimes          26-100  ...   \n",
       "\n",
       "                   leave mental_health_consequence phys_health_consequence  \\\n",
       "0          Somewhat easy                        No                      No   \n",
       "1             Don't know                     Maybe                      No   \n",
       "2     Somewhat difficult                        No                      No   \n",
       "3     Somewhat difficult                       Yes                     Yes   \n",
       "4             Don't know                        No                      No   \n",
       "...                  ...                       ...                     ...   \n",
       "1254       Somewhat easy                        No                      No   \n",
       "1255  Somewhat difficult                        No                      No   \n",
       "1256  Somewhat difficult                       Yes                     Yes   \n",
       "1257          Don't know                       Yes                      No   \n",
       "1258          Don't know                     Maybe                      No   \n",
       "\n",
       "         coworkers    supervisor mental_health_interview  \\\n",
       "0     Some of them           Yes                      No   \n",
       "1               No            No                      No   \n",
       "2              Yes           Yes                     Yes   \n",
       "3     Some of them            No                   Maybe   \n",
       "4     Some of them           Yes                     Yes   \n",
       "...            ...           ...                     ...   \n",
       "1254  Some of them  Some of them                      No   \n",
       "1255  Some of them           Yes                      No   \n",
       "1256            No            No                      No   \n",
       "1257            No            No                      No   \n",
       "1258  Some of them            No                      No   \n",
       "\n",
       "     phys_health_interview mental_vs_physical obs_consequence comments  \n",
       "0                    Maybe                Yes              No      NaN  \n",
       "1                       No         Don't know              No      NaN  \n",
       "2                      Yes                 No              No      NaN  \n",
       "3                    Maybe                 No             Yes      NaN  \n",
       "4                      Yes         Don't know              No      NaN  \n",
       "...                    ...                ...             ...      ...  \n",
       "1254                    No         Don't know              No      NaN  \n",
       "1255                    No                Yes              No      NaN  \n",
       "1256                    No                 No              No      NaN  \n",
       "1257                    No                 No              No      NaN  \n",
       "1258                    No         Don't know              No      NaN  \n",
       "\n",
       "[1259 rows x 27 columns]"
      ]
     },
     "execution_count": 68,
     "metadata": {},
     "output_type": "execute_result"
    }
   ],
   "source": [
    "df"
   ]
  },
  {
   "cell_type": "markdown",
   "id": "341c877a",
   "metadata": {},
   "source": [
    "# Data Cleaning"
   ]
  },
  {
   "cell_type": "code",
   "execution_count": 69,
   "id": "881b6282",
   "metadata": {},
   "outputs": [
    {
     "data": {
      "text/plain": [
       "Timestamp                       0\n",
       "Age                             0\n",
       "Gender                          0\n",
       "Country                         0\n",
       "state                         515\n",
       "self_employed                  18\n",
       "family_history                  0\n",
       "treatment                       0\n",
       "work_interfere                264\n",
       "no_employees                    0\n",
       "remote_work                     0\n",
       "tech_company                    0\n",
       "benefits                        0\n",
       "care_options                    0\n",
       "wellness_program                0\n",
       "seek_help                       0\n",
       "anonymity                       0\n",
       "leave                           0\n",
       "mental_health_consequence       0\n",
       "phys_health_consequence         0\n",
       "coworkers                       0\n",
       "supervisor                      0\n",
       "mental_health_interview         0\n",
       "phys_health_interview           0\n",
       "mental_vs_physical              0\n",
       "obs_consequence                 0\n",
       "comments                     1095\n",
       "dtype: int64"
      ]
     },
     "execution_count": 69,
     "metadata": {},
     "output_type": "execute_result"
    }
   ],
   "source": [
    "df.isnull().sum() # searching for columns having null values"
   ]
  },
  {
   "cell_type": "code",
   "execution_count": 70,
   "id": "5694b24e",
   "metadata": {},
   "outputs": [
    {
     "data": {
      "text/html": [
       "<div>\n",
       "<style scoped>\n",
       "    .dataframe tbody tr th:only-of-type {\n",
       "        vertical-align: middle;\n",
       "    }\n",
       "\n",
       "    .dataframe tbody tr th {\n",
       "        vertical-align: top;\n",
       "    }\n",
       "\n",
       "    .dataframe thead th {\n",
       "        text-align: right;\n",
       "    }\n",
       "</style>\n",
       "<table border=\"1\" class=\"dataframe\">\n",
       "  <thead>\n",
       "    <tr style=\"text-align: right;\">\n",
       "      <th></th>\n",
       "      <th>Timestamp</th>\n",
       "      <th>Age</th>\n",
       "      <th>Gender</th>\n",
       "      <th>Country</th>\n",
       "      <th>state</th>\n",
       "      <th>self_employed</th>\n",
       "      <th>family_history</th>\n",
       "      <th>treatment</th>\n",
       "      <th>work_interfere</th>\n",
       "      <th>no_employees</th>\n",
       "      <th>...</th>\n",
       "      <th>leave</th>\n",
       "      <th>mental_health_consequence</th>\n",
       "      <th>phys_health_consequence</th>\n",
       "      <th>coworkers</th>\n",
       "      <th>supervisor</th>\n",
       "      <th>mental_health_interview</th>\n",
       "      <th>phys_health_interview</th>\n",
       "      <th>mental_vs_physical</th>\n",
       "      <th>obs_consequence</th>\n",
       "      <th>comments</th>\n",
       "    </tr>\n",
       "  </thead>\n",
       "  <tbody>\n",
       "  </tbody>\n",
       "</table>\n",
       "<p>0 rows × 27 columns</p>\n",
       "</div>"
      ],
      "text/plain": [
       "Empty DataFrame\n",
       "Columns: [Timestamp, Age, Gender, Country, state, self_employed, family_history, treatment, work_interfere, no_employees, remote_work, tech_company, benefits, care_options, wellness_program, seek_help, anonymity, leave, mental_health_consequence, phys_health_consequence, coworkers, supervisor, mental_health_interview, phys_health_interview, mental_vs_physical, obs_consequence, comments]\n",
       "Index: []\n",
       "\n",
       "[0 rows x 27 columns]"
      ]
     },
     "execution_count": 70,
     "metadata": {},
     "output_type": "execute_result"
    }
   ],
   "source": [
    "df[df.duplicated()]  #checking for duplicates"
   ]
  },
  {
   "cell_type": "code",
   "execution_count": 71,
   "id": "a7d45764",
   "metadata": {},
   "outputs": [],
   "source": [
    "df.drop(columns=['state','comments','Timestamp','no_employees'],inplace=True) #dropping columns \n"
   ]
  },
  {
   "cell_type": "code",
   "execution_count": 72,
   "id": "c9b97f97",
   "metadata": {},
   "outputs": [
    {
     "name": "stdout",
     "output_type": "stream",
     "text": [
      "[nan 'Yes' 'No']\n"
     ]
    }
   ],
   "source": [
    "print(df['self_employed'].unique())"
   ]
  },
  {
   "cell_type": "code",
   "execution_count": 73,
   "id": "931dfd85",
   "metadata": {},
   "outputs": [
    {
     "name": "stdout",
     "output_type": "stream",
     "text": [
      "No     1095\n",
      "Yes     146\n",
      "Name: self_employed, dtype: int64\n"
     ]
    }
   ],
   "source": [
    "print(df['self_employed'].value_counts()) # Counting Data values"
   ]
  },
  {
   "cell_type": "code",
   "execution_count": 74,
   "id": "cd5aadf3",
   "metadata": {},
   "outputs": [
    {
     "name": "stdout",
     "output_type": "stream",
     "text": [
      "['Often' 'Rarely' 'Never' 'Sometimes' nan]\n"
     ]
    }
   ],
   "source": [
    "print(df['work_interfere'].unique())"
   ]
  },
  {
   "cell_type": "code",
   "execution_count": 75,
   "id": "e3aa7055",
   "metadata": {},
   "outputs": [],
   "source": [
    "df['self_employed'].fillna('No',inplace=True) #replacing nan values with \"NO\""
   ]
  },
  {
   "cell_type": "code",
   "execution_count": 76,
   "id": "74dd8e8f",
   "metadata": {},
   "outputs": [],
   "source": [
    "df['work_interfere'].fillna('Sometimes',inplace=True) #filling nan values of self employed data"
   ]
  },
  {
   "cell_type": "code",
   "execution_count": 77,
   "id": "7122282f",
   "metadata": {},
   "outputs": [
    {
     "name": "stdout",
     "output_type": "stream",
     "text": [
      "['Female' 'M' 'Male' 'male' 'female' 'm' 'Male-ish' 'maile' 'Trans-female'\n",
      " 'Cis Female' 'F' 'something kinda male?' 'Cis Male' 'Woman' 'f' 'Mal'\n",
      " 'Male (CIS)' 'queer/she/they' 'non-binary' 'Femake' 'woman' 'Make' 'Nah'\n",
      " 'All' 'Enby' 'fluid' 'Genderqueer' 'Female ' 'Androgyne' 'Agender'\n",
      " 'cis-female/femme' 'Guy (-ish) ^_^' 'male leaning androgynous' 'Male '\n",
      " 'Man' 'Trans woman' 'msle' 'Neuter' 'Female (trans)' 'queer'\n",
      " 'Female (cis)' 'Mail' 'cis male' 'A little about you' 'Malr' 'p' 'femail'\n",
      " 'Cis Man' 'ostensibly male, unsure what that really means']\n"
     ]
    }
   ],
   "source": [
    "print(df['Gender'].unique())"
   ]
  },
  {
   "cell_type": "code",
   "execution_count": 78,
   "id": "c412c439",
   "metadata": {},
   "outputs": [],
   "source": [
    "\n",
    "\n",
    "male = ['M', 'Male', 'male', 'm', 'maile', 'Mal', 'Make', 'Male ', 'Man', 'msle', 'Mail', 'Malr','Male-ish','something kinda male?','non-binary','Cis Male','Male (CIS)','Guy (-ish) ^_^','male leaning androgynous','Man','Male ','msle','Mail','cis male','Malr','Cis Man','ostensibly male, unsure what that really means']\n",
    "female = ['Female', 'female', 'F', 'Woman', 'f', 'Femake', 'woman', 'Female ', 'femail','Trans-female','Cis Female','Woman','Femake','Nah','All','Enby','fluid','Genderqueer','Agender','cis-female/femme','Trans woman','Female (cis)','A little about you','p','femail','Female (trans)','queer/she/they','queer','Neuter','Androgyne']\n",
    "\n",
    "\n",
    "df['Gender'].replace(to_replace = male, value = 'Male', inplace=True)\n",
    "df['Gender'].replace(to_replace = female, value = 'Female', inplace=True)\n"
   ]
  },
  {
   "cell_type": "code",
   "execution_count": 79,
   "id": "a7b8bdbe",
   "metadata": {},
   "outputs": [
    {
     "name": "stdout",
     "output_type": "stream",
     "text": [
      "['Female' 'Male']\n"
     ]
    }
   ],
   "source": [
    "print(df['Gender'].unique())"
   ]
  },
  {
   "cell_type": "code",
   "execution_count": 80,
   "id": "e9d21294",
   "metadata": {},
   "outputs": [
    {
     "data": {
      "text/html": [
       "<div>\n",
       "<style scoped>\n",
       "    .dataframe tbody tr th:only-of-type {\n",
       "        vertical-align: middle;\n",
       "    }\n",
       "\n",
       "    .dataframe tbody tr th {\n",
       "        vertical-align: top;\n",
       "    }\n",
       "\n",
       "    .dataframe thead th {\n",
       "        text-align: right;\n",
       "    }\n",
       "</style>\n",
       "<table border=\"1\" class=\"dataframe\">\n",
       "  <thead>\n",
       "    <tr style=\"text-align: right;\">\n",
       "      <th></th>\n",
       "      <th>Age</th>\n",
       "      <th>Gender</th>\n",
       "      <th>Country</th>\n",
       "      <th>self_employed</th>\n",
       "      <th>family_history</th>\n",
       "      <th>treatment</th>\n",
       "      <th>work_interfere</th>\n",
       "      <th>remote_work</th>\n",
       "      <th>tech_company</th>\n",
       "      <th>benefits</th>\n",
       "      <th>...</th>\n",
       "      <th>anonymity</th>\n",
       "      <th>leave</th>\n",
       "      <th>mental_health_consequence</th>\n",
       "      <th>phys_health_consequence</th>\n",
       "      <th>coworkers</th>\n",
       "      <th>supervisor</th>\n",
       "      <th>mental_health_interview</th>\n",
       "      <th>phys_health_interview</th>\n",
       "      <th>mental_vs_physical</th>\n",
       "      <th>obs_consequence</th>\n",
       "    </tr>\n",
       "  </thead>\n",
       "  <tbody>\n",
       "    <tr>\n",
       "      <th>0</th>\n",
       "      <td>37</td>\n",
       "      <td>Female</td>\n",
       "      <td>United States</td>\n",
       "      <td>No</td>\n",
       "      <td>No</td>\n",
       "      <td>Yes</td>\n",
       "      <td>Often</td>\n",
       "      <td>No</td>\n",
       "      <td>Yes</td>\n",
       "      <td>Yes</td>\n",
       "      <td>...</td>\n",
       "      <td>Yes</td>\n",
       "      <td>Somewhat easy</td>\n",
       "      <td>No</td>\n",
       "      <td>No</td>\n",
       "      <td>Some of them</td>\n",
       "      <td>Yes</td>\n",
       "      <td>No</td>\n",
       "      <td>Maybe</td>\n",
       "      <td>Yes</td>\n",
       "      <td>No</td>\n",
       "    </tr>\n",
       "    <tr>\n",
       "      <th>1</th>\n",
       "      <td>44</td>\n",
       "      <td>Male</td>\n",
       "      <td>United States</td>\n",
       "      <td>No</td>\n",
       "      <td>No</td>\n",
       "      <td>No</td>\n",
       "      <td>Rarely</td>\n",
       "      <td>No</td>\n",
       "      <td>No</td>\n",
       "      <td>Don't know</td>\n",
       "      <td>...</td>\n",
       "      <td>Don't know</td>\n",
       "      <td>Don't know</td>\n",
       "      <td>Maybe</td>\n",
       "      <td>No</td>\n",
       "      <td>No</td>\n",
       "      <td>No</td>\n",
       "      <td>No</td>\n",
       "      <td>No</td>\n",
       "      <td>Don't know</td>\n",
       "      <td>No</td>\n",
       "    </tr>\n",
       "    <tr>\n",
       "      <th>2</th>\n",
       "      <td>32</td>\n",
       "      <td>Male</td>\n",
       "      <td>Canada</td>\n",
       "      <td>No</td>\n",
       "      <td>No</td>\n",
       "      <td>No</td>\n",
       "      <td>Rarely</td>\n",
       "      <td>No</td>\n",
       "      <td>Yes</td>\n",
       "      <td>No</td>\n",
       "      <td>...</td>\n",
       "      <td>Don't know</td>\n",
       "      <td>Somewhat difficult</td>\n",
       "      <td>No</td>\n",
       "      <td>No</td>\n",
       "      <td>Yes</td>\n",
       "      <td>Yes</td>\n",
       "      <td>Yes</td>\n",
       "      <td>Yes</td>\n",
       "      <td>No</td>\n",
       "      <td>No</td>\n",
       "    </tr>\n",
       "    <tr>\n",
       "      <th>3</th>\n",
       "      <td>31</td>\n",
       "      <td>Male</td>\n",
       "      <td>United Kingdom</td>\n",
       "      <td>No</td>\n",
       "      <td>Yes</td>\n",
       "      <td>Yes</td>\n",
       "      <td>Often</td>\n",
       "      <td>No</td>\n",
       "      <td>Yes</td>\n",
       "      <td>No</td>\n",
       "      <td>...</td>\n",
       "      <td>No</td>\n",
       "      <td>Somewhat difficult</td>\n",
       "      <td>Yes</td>\n",
       "      <td>Yes</td>\n",
       "      <td>Some of them</td>\n",
       "      <td>No</td>\n",
       "      <td>Maybe</td>\n",
       "      <td>Maybe</td>\n",
       "      <td>No</td>\n",
       "      <td>Yes</td>\n",
       "    </tr>\n",
       "    <tr>\n",
       "      <th>4</th>\n",
       "      <td>31</td>\n",
       "      <td>Male</td>\n",
       "      <td>United States</td>\n",
       "      <td>No</td>\n",
       "      <td>No</td>\n",
       "      <td>No</td>\n",
       "      <td>Never</td>\n",
       "      <td>Yes</td>\n",
       "      <td>Yes</td>\n",
       "      <td>Yes</td>\n",
       "      <td>...</td>\n",
       "      <td>Don't know</td>\n",
       "      <td>Don't know</td>\n",
       "      <td>No</td>\n",
       "      <td>No</td>\n",
       "      <td>Some of them</td>\n",
       "      <td>Yes</td>\n",
       "      <td>Yes</td>\n",
       "      <td>Yes</td>\n",
       "      <td>Don't know</td>\n",
       "      <td>No</td>\n",
       "    </tr>\n",
       "    <tr>\n",
       "      <th>...</th>\n",
       "      <td>...</td>\n",
       "      <td>...</td>\n",
       "      <td>...</td>\n",
       "      <td>...</td>\n",
       "      <td>...</td>\n",
       "      <td>...</td>\n",
       "      <td>...</td>\n",
       "      <td>...</td>\n",
       "      <td>...</td>\n",
       "      <td>...</td>\n",
       "      <td>...</td>\n",
       "      <td>...</td>\n",
       "      <td>...</td>\n",
       "      <td>...</td>\n",
       "      <td>...</td>\n",
       "      <td>...</td>\n",
       "      <td>...</td>\n",
       "      <td>...</td>\n",
       "      <td>...</td>\n",
       "      <td>...</td>\n",
       "      <td>...</td>\n",
       "    </tr>\n",
       "    <tr>\n",
       "      <th>1254</th>\n",
       "      <td>26</td>\n",
       "      <td>Male</td>\n",
       "      <td>United Kingdom</td>\n",
       "      <td>No</td>\n",
       "      <td>No</td>\n",
       "      <td>Yes</td>\n",
       "      <td>Sometimes</td>\n",
       "      <td>No</td>\n",
       "      <td>Yes</td>\n",
       "      <td>No</td>\n",
       "      <td>...</td>\n",
       "      <td>Don't know</td>\n",
       "      <td>Somewhat easy</td>\n",
       "      <td>No</td>\n",
       "      <td>No</td>\n",
       "      <td>Some of them</td>\n",
       "      <td>Some of them</td>\n",
       "      <td>No</td>\n",
       "      <td>No</td>\n",
       "      <td>Don't know</td>\n",
       "      <td>No</td>\n",
       "    </tr>\n",
       "    <tr>\n",
       "      <th>1255</th>\n",
       "      <td>32</td>\n",
       "      <td>Male</td>\n",
       "      <td>United States</td>\n",
       "      <td>No</td>\n",
       "      <td>Yes</td>\n",
       "      <td>Yes</td>\n",
       "      <td>Often</td>\n",
       "      <td>Yes</td>\n",
       "      <td>Yes</td>\n",
       "      <td>Yes</td>\n",
       "      <td>...</td>\n",
       "      <td>Yes</td>\n",
       "      <td>Somewhat difficult</td>\n",
       "      <td>No</td>\n",
       "      <td>No</td>\n",
       "      <td>Some of them</td>\n",
       "      <td>Yes</td>\n",
       "      <td>No</td>\n",
       "      <td>No</td>\n",
       "      <td>Yes</td>\n",
       "      <td>No</td>\n",
       "    </tr>\n",
       "    <tr>\n",
       "      <th>1256</th>\n",
       "      <td>34</td>\n",
       "      <td>Male</td>\n",
       "      <td>United States</td>\n",
       "      <td>No</td>\n",
       "      <td>Yes</td>\n",
       "      <td>Yes</td>\n",
       "      <td>Sometimes</td>\n",
       "      <td>No</td>\n",
       "      <td>Yes</td>\n",
       "      <td>Yes</td>\n",
       "      <td>...</td>\n",
       "      <td>Don't know</td>\n",
       "      <td>Somewhat difficult</td>\n",
       "      <td>Yes</td>\n",
       "      <td>Yes</td>\n",
       "      <td>No</td>\n",
       "      <td>No</td>\n",
       "      <td>No</td>\n",
       "      <td>No</td>\n",
       "      <td>No</td>\n",
       "      <td>No</td>\n",
       "    </tr>\n",
       "    <tr>\n",
       "      <th>1257</th>\n",
       "      <td>46</td>\n",
       "      <td>Female</td>\n",
       "      <td>United States</td>\n",
       "      <td>No</td>\n",
       "      <td>No</td>\n",
       "      <td>No</td>\n",
       "      <td>Sometimes</td>\n",
       "      <td>Yes</td>\n",
       "      <td>Yes</td>\n",
       "      <td>No</td>\n",
       "      <td>...</td>\n",
       "      <td>Don't know</td>\n",
       "      <td>Don't know</td>\n",
       "      <td>Yes</td>\n",
       "      <td>No</td>\n",
       "      <td>No</td>\n",
       "      <td>No</td>\n",
       "      <td>No</td>\n",
       "      <td>No</td>\n",
       "      <td>No</td>\n",
       "      <td>No</td>\n",
       "    </tr>\n",
       "    <tr>\n",
       "      <th>1258</th>\n",
       "      <td>25</td>\n",
       "      <td>Male</td>\n",
       "      <td>United States</td>\n",
       "      <td>No</td>\n",
       "      <td>Yes</td>\n",
       "      <td>Yes</td>\n",
       "      <td>Sometimes</td>\n",
       "      <td>No</td>\n",
       "      <td>No</td>\n",
       "      <td>Yes</td>\n",
       "      <td>...</td>\n",
       "      <td>Yes</td>\n",
       "      <td>Don't know</td>\n",
       "      <td>Maybe</td>\n",
       "      <td>No</td>\n",
       "      <td>Some of them</td>\n",
       "      <td>No</td>\n",
       "      <td>No</td>\n",
       "      <td>No</td>\n",
       "      <td>Don't know</td>\n",
       "      <td>No</td>\n",
       "    </tr>\n",
       "  </tbody>\n",
       "</table>\n",
       "<p>1259 rows × 23 columns</p>\n",
       "</div>"
      ],
      "text/plain": [
       "      Age  Gender         Country self_employed family_history treatment  \\\n",
       "0      37  Female   United States            No             No       Yes   \n",
       "1      44    Male   United States            No             No        No   \n",
       "2      32    Male          Canada            No             No        No   \n",
       "3      31    Male  United Kingdom            No            Yes       Yes   \n",
       "4      31    Male   United States            No             No        No   \n",
       "...   ...     ...             ...           ...            ...       ...   \n",
       "1254   26    Male  United Kingdom            No             No       Yes   \n",
       "1255   32    Male   United States            No            Yes       Yes   \n",
       "1256   34    Male   United States            No            Yes       Yes   \n",
       "1257   46  Female   United States            No             No        No   \n",
       "1258   25    Male   United States            No            Yes       Yes   \n",
       "\n",
       "     work_interfere remote_work tech_company    benefits  ...   anonymity  \\\n",
       "0             Often          No          Yes         Yes  ...         Yes   \n",
       "1            Rarely          No           No  Don't know  ...  Don't know   \n",
       "2            Rarely          No          Yes          No  ...  Don't know   \n",
       "3             Often          No          Yes          No  ...          No   \n",
       "4             Never         Yes          Yes         Yes  ...  Don't know   \n",
       "...             ...         ...          ...         ...  ...         ...   \n",
       "1254      Sometimes          No          Yes          No  ...  Don't know   \n",
       "1255          Often         Yes          Yes         Yes  ...         Yes   \n",
       "1256      Sometimes          No          Yes         Yes  ...  Don't know   \n",
       "1257      Sometimes         Yes          Yes          No  ...  Don't know   \n",
       "1258      Sometimes          No           No         Yes  ...         Yes   \n",
       "\n",
       "                   leave mental_health_consequence phys_health_consequence  \\\n",
       "0          Somewhat easy                        No                      No   \n",
       "1             Don't know                     Maybe                      No   \n",
       "2     Somewhat difficult                        No                      No   \n",
       "3     Somewhat difficult                       Yes                     Yes   \n",
       "4             Don't know                        No                      No   \n",
       "...                  ...                       ...                     ...   \n",
       "1254       Somewhat easy                        No                      No   \n",
       "1255  Somewhat difficult                        No                      No   \n",
       "1256  Somewhat difficult                       Yes                     Yes   \n",
       "1257          Don't know                       Yes                      No   \n",
       "1258          Don't know                     Maybe                      No   \n",
       "\n",
       "         coworkers    supervisor mental_health_interview  \\\n",
       "0     Some of them           Yes                      No   \n",
       "1               No            No                      No   \n",
       "2              Yes           Yes                     Yes   \n",
       "3     Some of them            No                   Maybe   \n",
       "4     Some of them           Yes                     Yes   \n",
       "...            ...           ...                     ...   \n",
       "1254  Some of them  Some of them                      No   \n",
       "1255  Some of them           Yes                      No   \n",
       "1256            No            No                      No   \n",
       "1257            No            No                      No   \n",
       "1258  Some of them            No                      No   \n",
       "\n",
       "     phys_health_interview mental_vs_physical obs_consequence  \n",
       "0                    Maybe                Yes              No  \n",
       "1                       No         Don't know              No  \n",
       "2                      Yes                 No              No  \n",
       "3                    Maybe                 No             Yes  \n",
       "4                      Yes         Don't know              No  \n",
       "...                    ...                ...             ...  \n",
       "1254                    No         Don't know              No  \n",
       "1255                    No                Yes              No  \n",
       "1256                    No                 No              No  \n",
       "1257                    No                 No              No  \n",
       "1258                    No         Don't know              No  \n",
       "\n",
       "[1259 rows x 23 columns]"
      ]
     },
     "execution_count": 80,
     "metadata": {},
     "output_type": "execute_result"
    }
   ],
   "source": [
    "df"
   ]
  },
  {
   "cell_type": "code",
   "execution_count": 81,
   "id": "e40bdafd",
   "metadata": {},
   "outputs": [
    {
     "data": {
      "text/plain": [
       "Age                          0\n",
       "Gender                       0\n",
       "Country                      0\n",
       "self_employed                0\n",
       "family_history               0\n",
       "treatment                    0\n",
       "work_interfere               0\n",
       "remote_work                  0\n",
       "tech_company                 0\n",
       "benefits                     0\n",
       "care_options                 0\n",
       "wellness_program             0\n",
       "seek_help                    0\n",
       "anonymity                    0\n",
       "leave                        0\n",
       "mental_health_consequence    0\n",
       "phys_health_consequence      0\n",
       "coworkers                    0\n",
       "supervisor                   0\n",
       "mental_health_interview      0\n",
       "phys_health_interview        0\n",
       "mental_vs_physical           0\n",
       "obs_consequence              0\n",
       "dtype: int64"
      ]
     },
     "execution_count": 81,
     "metadata": {},
     "output_type": "execute_result"
    }
   ],
   "source": [
    "df.isnull().sum()"
   ]
  },
  {
   "cell_type": "code",
   "execution_count": 82,
   "id": "9d3dce3a",
   "metadata": {},
   "outputs": [
    {
     "name": "stdout",
     "output_type": "stream",
     "text": [
      "People younger than 18: 6\n",
      "People older than 60: 6\n",
      "Total Outliers: 12\n"
     ]
    }
   ],
   "source": [
    "# finding outliers in age \n",
    "\n",
    "outlier_1 = (df['Age'] < 18).sum() # people age less that 18\n",
    "print('People younger than 18: ' + str(outlier_1))\n",
    "outlier_2 = (df['Age'] > 60).sum()   # prople age more than 60\n",
    "print('People older than 60: ' + str(outlier_2))\n",
    "Total_outliers = outlier_1 + outlier_2\n",
    "print('Total Outliers: ' + str(Total_outliers))\n"
   ]
  },
  {
   "cell_type": "markdown",
   "id": "eef5859f",
   "metadata": {},
   "source": [
    "# Data Visualization"
   ]
  },
  {
   "cell_type": "markdown",
   "id": "8677aabe",
   "metadata": {},
   "source": [
    "# Univariate visualizations "
   ]
  },
  {
   "cell_type": "markdown",
   "id": "1c639d11",
   "metadata": {},
   "source": [
    "# Bar Chart"
   ]
  },
  {
   "cell_type": "code",
   "execution_count": 83,
   "id": "c6c9f8f7",
   "metadata": {},
   "outputs": [
    {
     "data": {
      "image/png": "[encoded data removed]",
      "text/plain": [
       "<Figure size 432x288 with 1 Axes>"
      ]
     },
     "metadata": {
      "needs_background": "light"
     },
     "output_type": "display_data"
    }
   ],
   "source": [
    "#bar chart for work interfere \n",
    "sb.countplot(data=df, x='work_interfere');"
   ]
  },
  {
   "cell_type": "markdown",
   "id": "6871c9f0",
   "metadata": {},
   "source": [
    "# Pie Chart"
   ]
  },
  {
   "cell_type": "code",
   "execution_count": 84,
   "id": "5eeea18c",
   "metadata": {},
   "outputs": [
    {
     "data": {
      "image/png": "[encoded data removed]",
      "text/plain": [
       "<Figure size 432x288 with 1 Axes>"
      ]
     },
     "metadata": {},
     "output_type": "display_data"
    }
   ],
   "source": [
    "sorted_counts = df['family_history'].value_counts()\n",
    "gen_percentage = sorted_counts/sorted_counts[:].sum()\n",
    "plt.pie(gen_percentage, labels = sorted_counts.index, startangle = 90, counterclock = False);"
   ]
  },
  {
   "cell_type": "code",
   "execution_count": null,
   "id": "7b30dc96",
   "metadata": {},
   "outputs": [],
   "source": []
  },
  {
   "cell_type": "markdown",
   "id": "2cfc67ac",
   "metadata": {},
   "source": [
    "# Histogram"
   ]
  },
  {
   "cell_type": "code",
   "execution_count": 85,
   "id": "0a2de079",
   "metadata": {},
   "outputs": [
    {
     "data": {
      "image/png": "[encoded data removed]",
      "text/plain": [
       "<Figure size 432x288 with 1 Axes>"
      ]
     },
     "metadata": {
      "needs_background": "light"
     },
     "output_type": "display_data"
    }
   ],
   "source": [
    "plt.hist(data = df, x = 'leave', bins = 10); #histogram showing if it easy for coworkers to take medical leave for mental health condition"
   ]
  },
  {
   "cell_type": "code",
   "execution_count": 86,
   "id": "9ac17cd3",
   "metadata": {},
   "outputs": [
    {
     "data": {
      "image/png": "[encoded data removed]",
      "text/plain": [
       "<Figure size 432x288 with 1 Axes>"
      ]
     },
     "metadata": {
      "needs_background": "light"
     },
     "output_type": "display_data"
    }
   ],
   "source": [
    "sb.histplot(df['leave'], kde=True); # same histogram with seaborn library"
   ]
  },
  {
   "cell_type": "markdown",
   "id": "05385aa2",
   "metadata": {},
   "source": [
    "# Box Plot"
   ]
  },
  {
   "cell_type": "markdown",
   "id": "9ec79753",
   "metadata": {},
   "source": []
  },
  {
   "cell_type": "code",
   "execution_count": 87,
   "id": "1d872ebc",
   "metadata": {},
   "outputs": [
    {
     "data": {
      "text/plain": [
       "<AxesSubplot:xlabel='Age'>"
      ]
     },
     "execution_count": 87,
     "metadata": {},
     "output_type": "execute_result"
    },
    {
     "data": {
      "image/png": "[encoded data removed]",
      "text/plain": [
       "<Figure size 432x288 with 1 Axes>"
      ]
     },
     "metadata": {
      "needs_background": "light"
     },
     "output_type": "display_data"
    }
   ],
   "source": [
    "sb.boxplot(df['Age'])"
   ]
  },
  {
   "cell_type": "code",
   "execution_count": 88,
   "id": "46d19874",
   "metadata": {},
   "outputs": [],
   "source": [
    "df.drop(df[df['Age'] < 18].index, inplace = True) \n",
    "df.drop(df[df['Age'] > 60].index, inplace = True) "
   ]
  },
  {
   "cell_type": "code",
   "execution_count": 89,
   "id": "b8b051af",
   "metadata": {},
   "outputs": [
    {
     "data": {
      "text/plain": [
       "<AxesSubplot:xlabel='Age'>"
      ]
     },
     "execution_count": 89,
     "metadata": {},
     "output_type": "execute_result"
    },
    {
     "data": {
      "image/png": "[encoded data removed]",
      "text/plain": [
       "<Figure size 432x288 with 1 Axes>"
      ]
     },
     "metadata": {
      "needs_background": "light"
     },
     "output_type": "display_data"
    }
   ],
   "source": [
    "sb.boxplot(df['Age'])"
   ]
  },
  {
   "cell_type": "markdown",
   "id": "f140f50c",
   "metadata": {},
   "source": []
  },
  {
   "cell_type": "code",
   "execution_count": 90,
   "id": "3fec903c",
   "metadata": {},
   "outputs": [
    {
     "data": {
      "text/plain": [
       "Age                          0\n",
       "Gender                       0\n",
       "Country                      0\n",
       "self_employed                0\n",
       "family_history               0\n",
       "treatment                    0\n",
       "work_interfere               0\n",
       "remote_work                  0\n",
       "tech_company                 0\n",
       "benefits                     0\n",
       "care_options                 0\n",
       "wellness_program             0\n",
       "seek_help                    0\n",
       "anonymity                    0\n",
       "leave                        0\n",
       "mental_health_consequence    0\n",
       "phys_health_consequence      0\n",
       "coworkers                    0\n",
       "supervisor                   0\n",
       "mental_health_interview      0\n",
       "phys_health_interview        0\n",
       "mental_vs_physical           0\n",
       "obs_consequence              0\n",
       "dtype: int64"
      ]
     },
     "execution_count": 90,
     "metadata": {},
     "output_type": "execute_result"
    }
   ],
   "source": [
    "df.isnull().sum()"
   ]
  },
  {
   "cell_type": "code",
   "execution_count": 91,
   "id": "02e036ce",
   "metadata": {},
   "outputs": [
    {
     "name": "stdout",
     "output_type": "stream",
     "text": [
      "['United States' 'Canada' 'United Kingdom' 'Bulgaria' 'France' 'Portugal'\n",
      " 'Netherlands' 'Switzerland' 'Poland' 'Australia' 'Germany' 'Russia'\n",
      " 'Mexico' 'Brazil' 'Slovenia' 'Costa Rica' 'Austria' 'Ireland' 'India'\n",
      " 'South Africa' 'Italy' 'Sweden' 'Colombia' 'Latvia' 'Romania' 'Belgium'\n",
      " 'New Zealand' 'Spain' 'Finland' 'Uruguay' 'Israel'\n",
      " 'Bosnia and Herzegovina' 'Hungary' 'Singapore' 'Japan' 'Nigeria'\n",
      " 'Croatia' 'Norway' 'Thailand' 'Denmark' 'Greece' 'Moldova' 'Georgia'\n",
      " 'China' 'Czech Republic' 'Philippines']\n"
     ]
    }
   ],
   "source": [
    "print(df['Country'].unique())"
   ]
  },
  {
   "cell_type": "code",
   "execution_count": 92,
   "id": "cff30c8a",
   "metadata": {},
   "outputs": [
    {
     "name": "stdout",
     "output_type": "stream",
     "text": [
      "['No' 'Yes' 'Maybe']\n"
     ]
    }
   ],
   "source": [
    "print(df['phys_health_consequence'].unique())"
   ]
  },
  {
   "cell_type": "code",
   "execution_count": 93,
   "id": "547d4d23",
   "metadata": {},
   "outputs": [],
   "source": [
    "df['Gender'].replace(['Male', 'Female'], [0,1], inplace=True)\n",
    "df['family_history'].replace(['Yes', 'No'], [0,1], inplace=True)\n",
    "df['remote_work'].replace(['Yes', 'No'], [0,1], inplace=True)\n",
    "df['benefits'].replace(['Yes', 'No','Don\\'t know'], [0,1,2], inplace=True)\n",
    "df['work_interfere'].replace(['Often', 'Rarely', 'Never','Sometimes'], [1, 2, 3, 4], inplace=True)\n",
    "df['care_options'].replace(['Yes', 'No','Not sure'], [0,1,2], inplace=True)\n",
    "df['obs_consequence'].replace(['Yes', 'No'], [0,1], inplace=True)\n"
   ]
  },
  {
   "cell_type": "markdown",
   "id": "c221c5e5",
   "metadata": {},
   "source": [
    "# Heat Map"
   ]
  },
  {
   "cell_type": "code",
   "execution_count": 94,
   "id": "df7c4397",
   "metadata": {},
   "outputs": [],
   "source": [
    "import numpy as np\n",
    "import pandas as pd \n",
    "from matplotlib import pyplot as plt \n",
    "%matplotlib inline\n",
    "import seaborn as sns\n",
    "import matplotlib\n",
    "import warnings\n",
    "warnings.filterwarnings(\"ignore\")\n",
    "import matplotlib.pyplot as mp\n",
    "import pandas as pd\n",
    "import seaborn as sb"
   ]
  },
  {
   "cell_type": "code",
   "execution_count": 95,
   "id": "d575668d",
   "metadata": {},
   "outputs": [
    {
     "data": {
      "image/png": "[encoded data removed]",
      "text/plain": [
       "<Figure size 432x288 with 2 Axes>"
      ]
     },
     "metadata": {
      "needs_background": "light"
     },
     "output_type": "display_data"
    }
   ],
   "source": [
    "dataplot = sb.heatmap(df.corr(), cmap=\"YlGnBu\", annot=True) # high correlation between care options and benefits\n",
    "\n",
    "mp.show()"
   ]
  },
  {
   "cell_type": "code",
   "execution_count": 96,
   "id": "85dffd1f",
   "metadata": {},
   "outputs": [],
   "source": [
    "\n",
    "df['Country'].replace(['United States', 'Canada', 'United Kingdom','Bulgaria','France','Portugal','Netherlands','Switzerland','Poland','Australia','Germany','Russia','Mexico','Brazil','Slovenia','Costa Rica','Austria','Ireland','India','South Africa','Italy','Sweden','Colombia','Latvia','Romania','Belgium','New Zealand','Zimbabwe','Spain','Finland','Uruguay','Israel','Bosnia and Herzegovina','Hungary','Singapore','Japan','Nigeria','Croatia','Norway','Thailand','Denmark','Bahamas, The','Greece','Moldova','Georgia','China','Czech Republic','Philippines'], [1, 2, 3, 4,5,6,7,8,9,10,11,12,13,14,15,16,17,18,19,20,21,22,23,24,25,26,27,28,29,30,31,32,33,34,35,36,37,38,39,40,41,42,43,44,45,46,47,48], inplace=True)\n",
    "df['self_employed'].replace(['Yes', 'No'], [0,1], inplace=True)\n",
    "df['treatment'].replace(['Yes', 'No'], [0,1], inplace=True)\n",
    "df['tech_company'].replace(['Yes', 'No'], [0,1], inplace=True)\n",
    "df['wellness_program'].replace(['Yes', 'No','Don\\'t know'], [0,1,2], inplace=True)\n",
    "df['seek_help'].replace(['Yes', 'No','Don\\'t know'], [0,1,2], inplace=True)\n",
    "df['wellness_program'].replace(['Yes', 'No','Don\\'t know'], [0,1,2], inplace=True)\n",
    "df['anonymity'].replace(['Yes', 'No','Don\\'t know'], [0,1,2], inplace=True)\n",
    "df['leave'].replace(['Somewhat easy', 'Don\\'t know', 'Somewhat difficult','Very difficult','Very easy'], [1, 2, 3, 4,5], inplace=True)\n",
    "df['mental_health_consequence'].replace(['Yes', 'No','Maybe'], [0,1,2], inplace=True)\n",
    "df['coworkers'].replace(['Yes', 'No','Some of them'], [0,1,2], inplace=True)\n",
    "df['supervisor'].replace(['Yes', 'No','Some of them'], [0,1,2], inplace=True)\n",
    "df['mental_health_interview'].replace(['Yes', 'No','Maybe'], [0,1,2], inplace=True)\n",
    "df['phys_health_interview'].replace(['Yes', 'No','Maybe'], [0,1,2], inplace=True)\n",
    "df['phys_health_consequence'].replace(['Yes', 'No','Maybe'], [0,1,2], inplace=True)\n",
    "df['mental_vs_physical'].replace(['Yes', 'No','Don\\'t know'], [0,1,2], inplace=True)\n",
    "\n",
    "\n"
   ]
  },
  {
   "cell_type": "code",
   "execution_count": 97,
   "id": "33f1a8fa",
   "metadata": {},
   "outputs": [
    {
     "data": {
      "image/png": "[encoded data removed]",
      "text/plain": [
       "<Figure size 432x288 with 2 Axes>"
      ]
     },
     "metadata": {
      "needs_background": "light"
     },
     "output_type": "display_data"
    }
   ],
   "source": [
    "sb.heatmap(pd.crosstab(df.Gender, df.family_history), annot=True, fmt='d'); # family have history in mnental illneas \n"
   ]
  },
  {
   "cell_type": "code",
   "execution_count": 98,
   "id": "97992dcb",
   "metadata": {},
   "outputs": [
    {
     "data": {
      "image/png": "[encoded data removed]",
      "text/plain": [
       "<Figure size 432x288 with 2 Axes>"
      ]
     },
     "metadata": {
      "needs_background": "light"
     },
     "output_type": "display_data"
    }
   ],
   "source": [
    "sb.heatmap(pd.crosstab(df.Gender, df.mental_vs_physical), annot=True, fmt='d');  #do you fell that your employer takes mental health as seriosuly as physical health\n"
   ]
  },
  {
   "cell_type": "markdown",
   "id": "53a7e98d",
   "metadata": {},
   "source": [
    "# Clustered Bar Charts "
   ]
  },
  {
   "cell_type": "code",
   "execution_count": 99,
   "id": "4a821bf2",
   "metadata": {},
   "outputs": [
    {
     "data": {
      "image/png": "[encoded data removed]",
      "text/plain": [
       "<Figure size 432x288 with 1 Axes>"
      ]
     },
     "metadata": {
      "needs_background": "light"
     },
     "output_type": "display_data"
    }
   ],
   "source": [
    "sb.countplot(data = df, x = 'Gender', hue = 'mental_health_consequence') # males think that discussing their mental health problems with their employer would not have negative consequences while females are neutral  \n",
    "plt.xticks(rotation=90);"
   ]
  },
  {
   "cell_type": "code",
   "execution_count": null,
   "id": "a0fe81c7",
   "metadata": {},
   "outputs": [],
   "source": []
  },
  {
   "cell_type": "code",
   "execution_count": 100,
   "id": "ee6c8ad1",
   "metadata": {},
   "outputs": [
    {
     "data": {
      "image/png": "[encoded data removed]",
      "text/plain": [
       "<Figure size 432x288 with 1 Axes>"
      ]
     },
     "metadata": {
      "needs_background": "light"
     },
     "output_type": "display_data"
    }
   ],
   "source": [
    "sb.countplot(data = df, x = 'Gender', hue = 'coworkers') #some of both genders  see that they are not willing to discuss mental health problems with their coworkers but most of them or the majority see that some people they can discuss it with \n",
    "plt.xticks(rotation=90);"
   ]
  },
  {
   "cell_type": "markdown",
   "id": "836d6417",
   "metadata": {},
   "source": [
    "# Model Fitting"
   ]
  },
  {
   "cell_type": "code",
   "execution_count": 101,
   "id": "358ec6cc",
   "metadata": {},
   "outputs": [],
   "source": [
    "X = df.drop(['obs_consequence'], axis=1).copy()\n",
    "Y = df['obs_consequence'].copy()"
   ]
  },
  {
   "cell_type": "code",
   "execution_count": 102,
   "id": "bd056f2d",
   "metadata": {},
   "outputs": [
    {
     "data": {
      "text/html": [
       "<div>\n",
       "<style scoped>\n",
       "    .dataframe tbody tr th:only-of-type {\n",
       "        vertical-align: middle;\n",
       "    }\n",
       "\n",
       "    .dataframe tbody tr th {\n",
       "        vertical-align: top;\n",
       "    }\n",
       "\n",
       "    .dataframe thead th {\n",
       "        text-align: right;\n",
       "    }\n",
       "</style>\n",
       "<table border=\"1\" class=\"dataframe\">\n",
       "  <thead>\n",
       "    <tr style=\"text-align: right;\">\n",
       "      <th></th>\n",
       "      <th>Age</th>\n",
       "      <th>Gender</th>\n",
       "      <th>Country</th>\n",
       "      <th>self_employed</th>\n",
       "      <th>family_history</th>\n",
       "      <th>treatment</th>\n",
       "      <th>work_interfere</th>\n",
       "      <th>remote_work</th>\n",
       "      <th>tech_company</th>\n",
       "      <th>benefits</th>\n",
       "      <th>...</th>\n",
       "      <th>seek_help</th>\n",
       "      <th>anonymity</th>\n",
       "      <th>leave</th>\n",
       "      <th>mental_health_consequence</th>\n",
       "      <th>phys_health_consequence</th>\n",
       "      <th>coworkers</th>\n",
       "      <th>supervisor</th>\n",
       "      <th>mental_health_interview</th>\n",
       "      <th>phys_health_interview</th>\n",
       "      <th>mental_vs_physical</th>\n",
       "    </tr>\n",
       "  </thead>\n",
       "  <tbody>\n",
       "    <tr>\n",
       "      <th>0</th>\n",
       "      <td>37</td>\n",
       "      <td>1</td>\n",
       "      <td>1</td>\n",
       "      <td>1</td>\n",
       "      <td>1</td>\n",
       "      <td>0</td>\n",
       "      <td>1</td>\n",
       "      <td>1</td>\n",
       "      <td>0</td>\n",
       "      <td>0</td>\n",
       "      <td>...</td>\n",
       "      <td>0</td>\n",
       "      <td>0</td>\n",
       "      <td>1</td>\n",
       "      <td>1</td>\n",
       "      <td>1</td>\n",
       "      <td>2</td>\n",
       "      <td>0</td>\n",
       "      <td>1</td>\n",
       "      <td>2</td>\n",
       "      <td>0</td>\n",
       "    </tr>\n",
       "    <tr>\n",
       "      <th>1</th>\n",
       "      <td>44</td>\n",
       "      <td>0</td>\n",
       "      <td>1</td>\n",
       "      <td>1</td>\n",
       "      <td>1</td>\n",
       "      <td>1</td>\n",
       "      <td>2</td>\n",
       "      <td>1</td>\n",
       "      <td>1</td>\n",
       "      <td>2</td>\n",
       "      <td>...</td>\n",
       "      <td>2</td>\n",
       "      <td>2</td>\n",
       "      <td>2</td>\n",
       "      <td>2</td>\n",
       "      <td>1</td>\n",
       "      <td>1</td>\n",
       "      <td>1</td>\n",
       "      <td>1</td>\n",
       "      <td>1</td>\n",
       "      <td>2</td>\n",
       "    </tr>\n",
       "    <tr>\n",
       "      <th>2</th>\n",
       "      <td>32</td>\n",
       "      <td>0</td>\n",
       "      <td>2</td>\n",
       "      <td>1</td>\n",
       "      <td>1</td>\n",
       "      <td>1</td>\n",
       "      <td>2</td>\n",
       "      <td>1</td>\n",
       "      <td>0</td>\n",
       "      <td>1</td>\n",
       "      <td>...</td>\n",
       "      <td>1</td>\n",
       "      <td>2</td>\n",
       "      <td>3</td>\n",
       "      <td>1</td>\n",
       "      <td>1</td>\n",
       "      <td>0</td>\n",
       "      <td>0</td>\n",
       "      <td>0</td>\n",
       "      <td>0</td>\n",
       "      <td>1</td>\n",
       "    </tr>\n",
       "    <tr>\n",
       "      <th>3</th>\n",
       "      <td>31</td>\n",
       "      <td>0</td>\n",
       "      <td>3</td>\n",
       "      <td>1</td>\n",
       "      <td>0</td>\n",
       "      <td>0</td>\n",
       "      <td>1</td>\n",
       "      <td>1</td>\n",
       "      <td>0</td>\n",
       "      <td>1</td>\n",
       "      <td>...</td>\n",
       "      <td>1</td>\n",
       "      <td>1</td>\n",
       "      <td>3</td>\n",
       "      <td>0</td>\n",
       "      <td>0</td>\n",
       "      <td>2</td>\n",
       "      <td>1</td>\n",
       "      <td>2</td>\n",
       "      <td>2</td>\n",
       "      <td>1</td>\n",
       "    </tr>\n",
       "    <tr>\n",
       "      <th>4</th>\n",
       "      <td>31</td>\n",
       "      <td>0</td>\n",
       "      <td>1</td>\n",
       "      <td>1</td>\n",
       "      <td>1</td>\n",
       "      <td>1</td>\n",
       "      <td>3</td>\n",
       "      <td>0</td>\n",
       "      <td>0</td>\n",
       "      <td>0</td>\n",
       "      <td>...</td>\n",
       "      <td>2</td>\n",
       "      <td>2</td>\n",
       "      <td>2</td>\n",
       "      <td>1</td>\n",
       "      <td>1</td>\n",
       "      <td>2</td>\n",
       "      <td>0</td>\n",
       "      <td>0</td>\n",
       "      <td>0</td>\n",
       "      <td>2</td>\n",
       "    </tr>\n",
       "    <tr>\n",
       "      <th>...</th>\n",
       "      <td>...</td>\n",
       "      <td>...</td>\n",
       "      <td>...</td>\n",
       "      <td>...</td>\n",
       "      <td>...</td>\n",
       "      <td>...</td>\n",
       "      <td>...</td>\n",
       "      <td>...</td>\n",
       "      <td>...</td>\n",
       "      <td>...</td>\n",
       "      <td>...</td>\n",
       "      <td>...</td>\n",
       "      <td>...</td>\n",
       "      <td>...</td>\n",
       "      <td>...</td>\n",
       "      <td>...</td>\n",
       "      <td>...</td>\n",
       "      <td>...</td>\n",
       "      <td>...</td>\n",
       "      <td>...</td>\n",
       "      <td>...</td>\n",
       "    </tr>\n",
       "    <tr>\n",
       "      <th>1254</th>\n",
       "      <td>26</td>\n",
       "      <td>0</td>\n",
       "      <td>3</td>\n",
       "      <td>1</td>\n",
       "      <td>1</td>\n",
       "      <td>0</td>\n",
       "      <td>4</td>\n",
       "      <td>1</td>\n",
       "      <td>0</td>\n",
       "      <td>1</td>\n",
       "      <td>...</td>\n",
       "      <td>1</td>\n",
       "      <td>2</td>\n",
       "      <td>1</td>\n",
       "      <td>1</td>\n",
       "      <td>1</td>\n",
       "      <td>2</td>\n",
       "      <td>2</td>\n",
       "      <td>1</td>\n",
       "      <td>1</td>\n",
       "      <td>2</td>\n",
       "    </tr>\n",
       "    <tr>\n",
       "      <th>1255</th>\n",
       "      <td>32</td>\n",
       "      <td>0</td>\n",
       "      <td>1</td>\n",
       "      <td>1</td>\n",
       "      <td>0</td>\n",
       "      <td>0</td>\n",
       "      <td>1</td>\n",
       "      <td>0</td>\n",
       "      <td>0</td>\n",
       "      <td>0</td>\n",
       "      <td>...</td>\n",
       "      <td>1</td>\n",
       "      <td>0</td>\n",
       "      <td>3</td>\n",
       "      <td>1</td>\n",
       "      <td>1</td>\n",
       "      <td>2</td>\n",
       "      <td>0</td>\n",
       "      <td>1</td>\n",
       "      <td>1</td>\n",
       "      <td>0</td>\n",
       "    </tr>\n",
       "    <tr>\n",
       "      <th>1256</th>\n",
       "      <td>34</td>\n",
       "      <td>0</td>\n",
       "      <td>1</td>\n",
       "      <td>1</td>\n",
       "      <td>0</td>\n",
       "      <td>0</td>\n",
       "      <td>4</td>\n",
       "      <td>1</td>\n",
       "      <td>0</td>\n",
       "      <td>0</td>\n",
       "      <td>...</td>\n",
       "      <td>1</td>\n",
       "      <td>2</td>\n",
       "      <td>3</td>\n",
       "      <td>0</td>\n",
       "      <td>0</td>\n",
       "      <td>1</td>\n",
       "      <td>1</td>\n",
       "      <td>1</td>\n",
       "      <td>1</td>\n",
       "      <td>1</td>\n",
       "    </tr>\n",
       "    <tr>\n",
       "      <th>1257</th>\n",
       "      <td>46</td>\n",
       "      <td>1</td>\n",
       "      <td>1</td>\n",
       "      <td>1</td>\n",
       "      <td>1</td>\n",
       "      <td>1</td>\n",
       "      <td>4</td>\n",
       "      <td>0</td>\n",
       "      <td>0</td>\n",
       "      <td>1</td>\n",
       "      <td>...</td>\n",
       "      <td>1</td>\n",
       "      <td>2</td>\n",
       "      <td>2</td>\n",
       "      <td>0</td>\n",
       "      <td>1</td>\n",
       "      <td>1</td>\n",
       "      <td>1</td>\n",
       "      <td>1</td>\n",
       "      <td>1</td>\n",
       "      <td>1</td>\n",
       "    </tr>\n",
       "    <tr>\n",
       "      <th>1258</th>\n",
       "      <td>25</td>\n",
       "      <td>0</td>\n",
       "      <td>1</td>\n",
       "      <td>1</td>\n",
       "      <td>0</td>\n",
       "      <td>0</td>\n",
       "      <td>4</td>\n",
       "      <td>1</td>\n",
       "      <td>1</td>\n",
       "      <td>0</td>\n",
       "      <td>...</td>\n",
       "      <td>1</td>\n",
       "      <td>0</td>\n",
       "      <td>2</td>\n",
       "      <td>2</td>\n",
       "      <td>1</td>\n",
       "      <td>2</td>\n",
       "      <td>1</td>\n",
       "      <td>1</td>\n",
       "      <td>1</td>\n",
       "      <td>2</td>\n",
       "    </tr>\n",
       "  </tbody>\n",
       "</table>\n",
       "<p>1247 rows × 22 columns</p>\n",
       "</div>"
      ],
      "text/plain": [
       "      Age  Gender  Country  self_employed  family_history  treatment  \\\n",
       "0      37       1        1              1               1          0   \n",
       "1      44       0        1              1               1          1   \n",
       "2      32       0        2              1               1          1   \n",
       "3      31       0        3              1               0          0   \n",
       "4      31       0        1              1               1          1   \n",
       "...   ...     ...      ...            ...             ...        ...   \n",
       "1254   26       0        3              1               1          0   \n",
       "1255   32       0        1              1               0          0   \n",
       "1256   34       0        1              1               0          0   \n",
       "1257   46       1        1              1               1          1   \n",
       "1258   25       0        1              1               0          0   \n",
       "\n",
       "      work_interfere  remote_work  tech_company  benefits  ...  seek_help  \\\n",
       "0                  1            1             0         0  ...          0   \n",
       "1                  2            1             1         2  ...          2   \n",
       "2                  2            1             0         1  ...          1   \n",
       "3                  1            1             0         1  ...          1   \n",
       "4                  3            0             0         0  ...          2   \n",
       "...              ...          ...           ...       ...  ...        ...   \n",
       "1254               4            1             0         1  ...          1   \n",
       "1255               1            0             0         0  ...          1   \n",
       "1256               4            1             0         0  ...          1   \n",
       "1257               4            0             0         1  ...          1   \n",
       "1258               4            1             1         0  ...          1   \n",
       "\n",
       "      anonymity  leave  mental_health_consequence  phys_health_consequence  \\\n",
       "0             0      1                          1                        1   \n",
       "1             2      2                          2                        1   \n",
       "2             2      3                          1                        1   \n",
       "3             1      3                          0                        0   \n",
       "4             2      2                          1                        1   \n",
       "...         ...    ...                        ...                      ...   \n",
       "1254          2      1                          1                        1   \n",
       "1255          0      3                          1                        1   \n",
       "1256          2      3                          0                        0   \n",
       "1257          2      2                          0                        1   \n",
       "1258          0      2                          2                        1   \n",
       "\n",
       "      coworkers  supervisor  mental_health_interview  phys_health_interview  \\\n",
       "0             2           0                        1                      2   \n",
       "1             1           1                        1                      1   \n",
       "2             0           0                        0                      0   \n",
       "3             2           1                        2                      2   \n",
       "4             2           0                        0                      0   \n",
       "...         ...         ...                      ...                    ...   \n",
       "1254          2           2                        1                      1   \n",
       "1255          2           0                        1                      1   \n",
       "1256          1           1                        1                      1   \n",
       "1257          1           1                        1                      1   \n",
       "1258          2           1                        1                      1   \n",
       "\n",
       "      mental_vs_physical  \n",
       "0                      0  \n",
       "1                      2  \n",
       "2                      1  \n",
       "3                      1  \n",
       "4                      2  \n",
       "...                  ...  \n",
       "1254                   2  \n",
       "1255                   0  \n",
       "1256                   1  \n",
       "1257                   1  \n",
       "1258                   2  \n",
       "\n",
       "[1247 rows x 22 columns]"
      ]
     },
     "execution_count": 102,
     "metadata": {},
     "output_type": "execute_result"
    }
   ],
   "source": [
    "X"
   ]
  },
  {
   "cell_type": "code",
   "execution_count": 103,
   "id": "d161bbc1",
   "metadata": {},
   "outputs": [
    {
     "data": {
      "text/plain": [
       "0       1\n",
       "1       1\n",
       "2       1\n",
       "3       0\n",
       "4       1\n",
       "       ..\n",
       "1254    1\n",
       "1255    1\n",
       "1256    1\n",
       "1257    1\n",
       "1258    1\n",
       "Name: obs_consequence, Length: 1247, dtype: int64"
      ]
     },
     "execution_count": 103,
     "metadata": {},
     "output_type": "execute_result"
    }
   ],
   "source": [
    "Y"
   ]
  },
  {
   "cell_type": "markdown",
   "id": "93367795",
   "metadata": {},
   "source": [
    "# Linear Regression Model"
   ]
  },
  {
   "cell_type": "code",
   "execution_count": 104,
   "id": "162018f2",
   "metadata": {},
   "outputs": [],
   "source": [
    "from sklearn.model_selection import train_test_split\n",
    "X_train, X_test, Y_train, Y_test = train_test_split(X, Y, test_size = 1/3, random_state = 0)"
   ]
  },
  {
   "cell_type": "code",
   "execution_count": 105,
   "id": "581983b6",
   "metadata": {},
   "outputs": [
    {
     "data": {
      "text/plain": [
       "LinearRegression()"
      ]
     },
     "execution_count": 105,
     "metadata": {},
     "output_type": "execute_result"
    }
   ],
   "source": [
    "#fitting using regresssin library\n",
    "\n",
    "from sklearn.linear_model import LinearRegression\n",
    "regressor = LinearRegression()\n",
    "regressor.fit(X_train, Y_train)"
   ]
  },
  {
   "cell_type": "code",
   "execution_count": 106,
   "id": "a888711d",
   "metadata": {},
   "outputs": [],
   "source": [
    "y_pred = regressor.predict(X_test)\n"
   ]
  },
  {
   "cell_type": "code",
   "execution_count": 107,
   "id": "74752086",
   "metadata": {},
   "outputs": [
    {
     "data": {
      "text/plain": [
       "array([0.80227574, 0.83229891, 0.97200959, 0.89291736, 1.03540008,\n",
       "       0.74763559, 0.68926108, 1.02192648, 0.8417543 , 0.85868494,\n",
       "       0.86819384, 0.89604708, 0.70135814, 1.00890563, 0.83378507,\n",
       "       0.7722677 , 0.64421974, 0.90496158, 0.77722948, 0.71348775,\n",
       "       0.8766152 , 0.76939707, 0.78233451, 0.74787447, 0.96424467,\n",
       "       0.64893351, 0.96947907, 0.94012597, 0.86187438, 0.93735124,\n",
       "       0.96410265, 0.84287714, 0.75631967, 0.74649055, 0.85135135,\n",
       "       0.694638  , 0.91016772, 0.68065359, 0.89451919, 0.78488944,\n",
       "       0.91422857, 0.90916067, 0.97633881, 0.9757977 , 0.94615071,\n",
       "       0.7259333 , 0.83533131, 0.93889708, 1.13920947, 0.92377705,\n",
       "       1.07877814, 0.64167082, 0.84869349, 0.8163795 , 0.97944638,\n",
       "       0.94127422, 0.84004963, 0.97072545, 0.92953346, 0.79393152,\n",
       "       0.9534103 , 0.78825569, 0.75256867, 0.71213123, 0.95041409,\n",
       "       0.88726424, 0.68251919, 0.96607293, 0.71664421, 0.66889058,\n",
       "       1.00281515, 0.68881583, 0.7114678 , 0.81533544, 0.82135768,\n",
       "       0.79737844, 0.81182914, 1.14685025, 0.80665998, 1.03722163,\n",
       "       1.07102952, 0.90769061, 0.77976158, 0.96148743, 0.81891594,\n",
       "       1.02317589, 0.75505138, 0.89993552, 0.83118828, 0.8184773 ,\n",
       "       0.63137873, 0.98788483, 0.63898976, 0.95883068, 1.04112552,\n",
       "       0.94385899, 1.01277724, 0.93615138, 0.91587755, 0.87324233,\n",
       "       0.86686214, 1.01973968, 0.85241406, 0.77873767, 0.84239498,\n",
       "       0.91879765, 0.86306266, 0.99528962, 0.69549205, 0.90337669,\n",
       "       0.63323447, 1.00274685, 0.90596361, 0.93758499, 0.73995795,\n",
       "       0.75471595, 0.93490536, 0.98943647, 0.81121952, 0.60478273,\n",
       "       0.74575813, 0.84054346, 0.58995094, 1.1208119 , 0.84155697,\n",
       "       1.03879328, 0.84370097, 0.89781684, 0.79214647, 0.76531929,\n",
       "       0.88978786, 0.7949039 , 0.84964021, 0.82795061, 0.86949103,\n",
       "       0.91397283, 0.93541552, 0.70822868, 0.6688776 , 1.01345272,\n",
       "       0.86257549, 0.99779456, 0.84350327, 0.95437682, 0.99213879,\n",
       "       0.89658995, 0.81771576, 0.78095103, 0.6512071 , 0.94151757,\n",
       "       0.82928759, 0.63806793, 0.80458949, 0.73612074, 0.69726123,\n",
       "       0.78270217, 0.8732006 , 0.88081384, 0.83989322, 0.82871276,\n",
       "       0.8198923 , 0.89732102, 0.99181422, 0.93233789, 1.03526448,\n",
       "       0.94151743, 0.71278513, 0.93968379, 0.97614921, 1.07499342,\n",
       "       0.85448888, 1.01317385, 0.73584999, 0.83416303, 0.75917081,\n",
       "       0.73361215, 0.8303253 , 0.96806088, 1.07195518, 0.77990112,\n",
       "       0.87589626, 0.92932503, 0.75006858, 0.57535096, 0.6770599 ,\n",
       "       0.85405632, 0.63597577, 1.02145906, 0.74004934, 0.76681238,\n",
       "       0.87389224, 0.88446088, 1.02121322, 0.66491343, 0.83893943,\n",
       "       0.86125938, 0.76833533, 0.65021166, 0.93127288, 0.88902424,\n",
       "       0.77660062, 0.91145068, 0.84657851, 1.00145585, 0.96548947,\n",
       "       0.97608226, 0.89052888, 0.81353718, 0.78507097, 0.87213626,\n",
       "       0.80599663, 0.92053261, 0.80255551, 0.98962389, 0.82250768,\n",
       "       0.74926051, 0.70686451, 0.93970171, 0.93453437, 0.75486337,\n",
       "       0.75215333, 0.82338039, 0.87485943, 0.9394994 , 0.85793795,\n",
       "       0.87618541, 0.89605604, 0.82672056, 0.97785464, 0.73556621,\n",
       "       0.79490424, 0.90437992, 0.88026085, 0.83725749, 0.9064797 ,\n",
       "       0.85955863, 0.87473695, 0.76504869, 1.02643749, 0.84717292,\n",
       "       0.83833231, 0.80966417, 0.79313486, 0.89436086, 0.67853406,\n",
       "       0.73715347, 0.94288751, 0.76972503, 0.86397722, 0.98796875,\n",
       "       0.71320725, 0.91343663, 0.76809229, 0.9580093 , 0.94980018,\n",
       "       1.05881336, 0.77325208, 0.78280124, 0.94735658, 0.9694086 ,\n",
       "       0.9452913 , 0.9037022 , 0.90809913, 0.93563121, 0.74611044,\n",
       "       0.91364557, 0.66445569, 1.05899771, 0.83401618, 0.83343926,\n",
       "       1.05733815, 1.01644113, 0.77180698, 0.93619533, 0.66311983,\n",
       "       0.84982413, 0.8668401 , 0.70938919, 0.67170838, 0.73121453,\n",
       "       0.64341408, 0.79098918, 0.84828209, 0.83741835, 0.78321042,\n",
       "       0.85252871, 0.83731795, 0.68948337, 0.69278627, 0.99160525,\n",
       "       0.75411304, 0.85682575, 0.87407099, 0.9817463 , 0.94850028,\n",
       "       0.93779761, 0.95462943, 1.05968429, 0.67768976, 0.82637267,\n",
       "       0.90149916, 0.8504973 , 0.98999606, 0.8621037 , 0.71065795,\n",
       "       0.97106067, 0.99213966, 0.93633293, 1.12166143, 0.85013747,\n",
       "       0.8748934 , 0.98978846, 0.79749542, 0.95051121, 0.82227532,\n",
       "       0.7508591 , 0.90683739, 0.84409042, 0.81628076, 0.94075997,\n",
       "       0.77961871, 0.86950149, 0.77768257, 0.6246709 , 0.68550633,\n",
       "       0.84128598, 0.64868763, 0.80931103, 0.84093502, 1.01556288,\n",
       "       0.98475232, 0.74835697, 0.99643787, 0.64715899, 0.7691641 ,\n",
       "       0.92218327, 0.77234367, 0.99512641, 0.81544288, 0.88921892,\n",
       "       0.88579451, 0.82847697, 0.8193394 , 0.89044377, 0.79682293,\n",
       "       1.08144739, 0.9605954 , 0.68895438, 0.92812176, 0.91008869,\n",
       "       0.94163947, 0.98180829, 0.82278287, 1.03369384, 0.83973942,\n",
       "       0.7810126 , 0.68036318, 0.76511163, 0.93858565, 0.7688398 ,\n",
       "       0.63648778, 0.81629604, 0.8472282 , 0.91032676, 0.66513368,\n",
       "       0.99267695, 0.82699819, 0.92743262, 0.76736727, 0.89968657,\n",
       "       0.97758074, 0.69658052, 0.85787922, 0.88235642, 0.76737433,\n",
       "       0.69835898, 0.77106959, 0.77820319, 0.74823471, 0.68456699,\n",
       "       0.98302446, 0.88004334, 0.86266295, 0.87549613, 0.8880908 ,\n",
       "       0.83310073, 0.84105806, 0.95078691, 0.8489282 , 0.95159583,\n",
       "       0.93921329, 0.7189221 , 0.85965186, 0.86227492, 1.07868413,\n",
       "       1.02845521, 0.85149212, 0.95161554, 0.79818366, 0.78599142,\n",
       "       0.83414857, 0.80209166, 0.67211256, 0.86196567, 0.89430123,\n",
       "       0.87197855, 0.81789026, 0.91329067, 0.74289424, 0.83955256,\n",
       "       0.93512195, 0.60712794, 1.07320543, 0.95757227, 0.83530148,\n",
       "       0.65109817])"
      ]
     },
     "execution_count": 107,
     "metadata": {},
     "output_type": "execute_result"
    }
   ],
   "source": [
    "y_pred"
   ]
  },
  {
   "cell_type": "code",
   "execution_count": 108,
   "id": "13a93aef",
   "metadata": {},
   "outputs": [
    {
     "name": "stdout",
     "output_type": "stream",
     "text": [
      "R2 score : 0.04428256827344246\n"
     ]
    }
   ],
   "source": [
    "\n",
    "from sklearn.metrics import r2_score\n",
    "\n",
    "r2 = r2_score(Y_test, y_pred)\n",
    "print(\"R2 score :\", r2)\n",
    "\n"
   ]
  },
  {
   "cell_type": "code",
   "execution_count": 109,
   "id": "2a001eef",
   "metadata": {},
   "outputs": [
    {
     "name": "stdout",
     "output_type": "stream",
     "text": [
      "RMSE for test =  0.34345674303156876\n"
     ]
    }
   ],
   "source": [
    "from sklearn.metrics import mean_squared_error\n",
    "\n",
    "error_test = np.sqrt(mean_squared_error(Y_test, y_pred))\n",
    "\n",
    "print('RMSE for test = ',error_test)"
   ]
  },
  {
   "cell_type": "markdown",
   "id": "6ef42d55",
   "metadata": {},
   "source": [
    "# Support Vector Machine Model"
   ]
  },
  {
   "cell_type": "code",
   "execution_count": 110,
   "id": "73fc38c6",
   "metadata": {},
   "outputs": [],
   "source": [
    "from sklearn.preprocessing import StandardScaler\n",
    "sc = StandardScaler()\n",
    "X_train = sc.fit_transform(X_train)\n",
    "X_test = sc.transform(X_test)"
   ]
  },
  {
   "cell_type": "code",
   "execution_count": 111,
   "id": "6f10b670",
   "metadata": {},
   "outputs": [
    {
     "data": {
      "text/plain": [
       "SVC()"
      ]
     },
     "execution_count": 111,
     "metadata": {},
     "output_type": "execute_result"
    }
   ],
   "source": [
    "from sklearn.svm import SVC\n",
    "classifier = SVC()\n",
    "classifier.fit(X_train, Y_train)"
   ]
  },
  {
   "cell_type": "code",
   "execution_count": 112,
   "id": "4a562c7c",
   "metadata": {},
   "outputs": [],
   "source": [
    "y_pred_S = classifier.predict(X_test)\n"
   ]
  },
  {
   "cell_type": "code",
   "execution_count": 113,
   "id": "19f64f14",
   "metadata": {},
   "outputs": [
    {
     "data": {
      "text/plain": [
       "0.8557692307692307"
      ]
     },
     "execution_count": 113,
     "metadata": {},
     "output_type": "execute_result"
    }
   ],
   "source": [
    "from sklearn.metrics import confusion_matrix, accuracy_score\n",
    "#cm = confusion_matrix(Y_test, y_pred_S)\n",
    "#print(cm)\n",
    "accuracy_score(Y_test, y_pred_S)"
   ]
  },
  {
   "cell_type": "markdown",
   "id": "5a5118ef",
   "metadata": {},
   "source": [
    "#  Logistic Regression Model"
   ]
  },
  {
   "cell_type": "code",
   "execution_count": 114,
   "id": "529de282",
   "metadata": {},
   "outputs": [
    {
     "data": {
      "text/plain": [
       "LogisticRegression(random_state=0)"
      ]
     },
     "execution_count": 114,
     "metadata": {},
     "output_type": "execute_result"
    }
   ],
   "source": [
    "from sklearn.linear_model import LogisticRegression\n",
    "classifier = LogisticRegression(random_state = 0)\n",
    "classifier.fit(X_train, Y_train)"
   ]
  },
  {
   "cell_type": "code",
   "execution_count": 115,
   "id": "4af3f64f",
   "metadata": {},
   "outputs": [],
   "source": [
    "y_pred_L = classifier.predict(X_test)\n"
   ]
  },
  {
   "cell_type": "code",
   "execution_count": 116,
   "id": "0745b30f",
   "metadata": {},
   "outputs": [
    {
     "name": "stdout",
     "output_type": "stream",
     "text": [
      "Accuracy :  0.8509615384615384\n"
     ]
    }
   ],
   "source": [
    "from sklearn.metrics import accuracy_score\n",
    "print (\"Accuracy : \", accuracy_score(Y_test, y_pred_L))"
   ]
  },
  {
   "cell_type": "markdown",
   "id": "3a4ee2de",
   "metadata": {},
   "source": [
    "# Naive Bayes Model"
   ]
  },
  {
   "cell_type": "code",
   "execution_count": 117,
   "id": "f4b350dd",
   "metadata": {},
   "outputs": [
    {
     "data": {
      "text/plain": [
       "GaussianNB()"
      ]
     },
     "execution_count": 117,
     "metadata": {},
     "output_type": "execute_result"
    }
   ],
   "source": [
    "from sklearn.naive_bayes import GaussianNB\n",
    "\n",
    "\n",
    "# instantiate the model\n",
    "gnb = GaussianNB()\n",
    "\n",
    "\n",
    "# fit the model\n",
    "gnb.fit(X_train, Y_train)"
   ]
  },
  {
   "cell_type": "code",
   "execution_count": 118,
   "id": "417ec739",
   "metadata": {},
   "outputs": [
    {
     "data": {
      "text/plain": [
       "array([1, 1, 1, 1, 1, 1, 1, 1, 1, 1, 1, 1, 1, 1, 1, 1, 0, 1, 1, 0, 1, 1,\n",
       "       1, 1, 1, 0, 1, 1, 1, 1, 1, 1, 1, 1, 1, 0, 1, 1, 1, 1, 1, 1, 1, 1,\n",
       "       1, 0, 1, 1, 1, 1, 1, 0, 1, 0, 1, 1, 1, 1, 1, 1, 1, 1, 1, 0, 1, 1,\n",
       "       0, 1, 1, 0, 1, 0, 1, 1, 1, 1, 1, 1, 1, 1, 1, 1, 1, 1, 1, 1, 1, 1,\n",
       "       1, 1, 0, 1, 0, 1, 1, 1, 1, 1, 1, 1, 1, 1, 1, 1, 1, 1, 1, 1, 1, 1,\n",
       "       0, 1, 1, 1, 1, 1, 1, 1, 1, 0, 1, 1, 0, 1, 1, 1, 1, 1, 1, 1, 1, 1,\n",
       "       1, 1, 1, 1, 1, 1, 1, 1, 1, 1, 1, 1, 1, 1, 1, 1, 0, 1, 1, 0, 1, 1,\n",
       "       0, 1, 1, 1, 1, 1, 1, 1, 1, 1, 1, 1, 0, 1, 1, 1, 1, 1, 0, 1, 0, 1,\n",
       "       1, 1, 1, 1, 1, 1, 0, 0, 0, 1, 0, 1, 0, 1, 1, 1, 1, 0, 1, 1, 1, 0,\n",
       "       1, 1, 1, 1, 1, 1, 1, 1, 1, 1, 1, 1, 1, 1, 1, 1, 0, 1, 0, 1, 1, 0,\n",
       "       0, 1, 1, 1, 1, 1, 1, 1, 1, 1, 0, 1, 1, 0, 1, 1, 1, 1, 1, 1, 1, 1,\n",
       "       1, 1, 0, 0, 1, 1, 1, 1, 0, 1, 1, 1, 1, 1, 0, 1, 1, 1, 1, 1, 1, 1,\n",
       "       1, 1, 0, 1, 1, 1, 1, 1, 1, 1, 0, 1, 1, 0, 0, 1, 0, 1, 0, 1, 0, 1,\n",
       "       1, 1, 0, 1, 0, 1, 1, 1, 1, 1, 1, 1, 1, 1, 1, 1, 1, 1, 1, 1, 1, 1,\n",
       "       1, 1, 1, 1, 1, 1, 1, 1, 1, 1, 1, 1, 1, 1, 1, 0, 1, 1, 0, 1, 1, 1,\n",
       "       1, 0, 1, 1, 1, 1, 1, 1, 1, 1, 1, 1, 1, 1, 1, 1, 1, 0, 1, 1, 1, 1,\n",
       "       1, 1, 1, 1, 0, 1, 1, 1, 0, 1, 1, 1, 0, 1, 1, 1, 1, 1, 1, 1, 1, 1,\n",
       "       0, 1, 1, 1, 1, 0, 1, 1, 1, 1, 1, 1, 1, 1, 1, 1, 1, 1, 1, 1, 1, 1,\n",
       "       1, 1, 1, 1, 1, 1, 0, 1, 1, 1, 1, 1, 0, 1, 1, 0, 1, 1, 1, 0],\n",
       "      dtype=int64)"
      ]
     },
     "execution_count": 118,
     "metadata": {},
     "output_type": "execute_result"
    }
   ],
   "source": [
    "y_pred_N = gnb.predict(X_test)\n",
    "\n",
    "y_pred_N"
   ]
  },
  {
   "cell_type": "code",
   "execution_count": 119,
   "id": "e1f44fb8",
   "metadata": {},
   "outputs": [
    {
     "name": "stdout",
     "output_type": "stream",
     "text": [
      "Model accuracy score: 0.8245\n"
     ]
    }
   ],
   "source": [
    "from sklearn.metrics import accuracy_score\n",
    "\n",
    "print('Model accuracy score: {0:0.4f}'. format(accuracy_score(Y_test, y_pred_N)))"
   ]
  },
  {
   "cell_type": "markdown",
   "id": "794bcdc5",
   "metadata": {},
   "source": [
    "# Model Fitting"
   ]
  },
  {
   "cell_type": "code",
   "execution_count": 120,
   "id": "2f89a92d",
   "metadata": {},
   "outputs": [],
   "source": [
    "X_1 = df.drop(['work_interfere'], axis=1).copy()\n",
    "Y_1 = df['work_interfere'].copy()"
   ]
  },
  {
   "cell_type": "code",
   "execution_count": 121,
   "id": "508e5515",
   "metadata": {},
   "outputs": [
    {
     "data": {
      "text/html": [
       "<div>\n",
       "<style scoped>\n",
       "    .dataframe tbody tr th:only-of-type {\n",
       "        vertical-align: middle;\n",
       "    }\n",
       "\n",
       "    .dataframe tbody tr th {\n",
       "        vertical-align: top;\n",
       "    }\n",
       "\n",
       "    .dataframe thead th {\n",
       "        text-align: right;\n",
       "    }\n",
       "</style>\n",
       "<table border=\"1\" class=\"dataframe\">\n",
       "  <thead>\n",
       "    <tr style=\"text-align: right;\">\n",
       "      <th></th>\n",
       "      <th>Age</th>\n",
       "      <th>Gender</th>\n",
       "      <th>Country</th>\n",
       "      <th>self_employed</th>\n",
       "      <th>family_history</th>\n",
       "      <th>treatment</th>\n",
       "      <th>remote_work</th>\n",
       "      <th>tech_company</th>\n",
       "      <th>benefits</th>\n",
       "      <th>care_options</th>\n",
       "      <th>...</th>\n",
       "      <th>anonymity</th>\n",
       "      <th>leave</th>\n",
       "      <th>mental_health_consequence</th>\n",
       "      <th>phys_health_consequence</th>\n",
       "      <th>coworkers</th>\n",
       "      <th>supervisor</th>\n",
       "      <th>mental_health_interview</th>\n",
       "      <th>phys_health_interview</th>\n",
       "      <th>mental_vs_physical</th>\n",
       "      <th>obs_consequence</th>\n",
       "    </tr>\n",
       "  </thead>\n",
       "  <tbody>\n",
       "    <tr>\n",
       "      <th>0</th>\n",
       "      <td>37</td>\n",
       "      <td>1</td>\n",
       "      <td>1</td>\n",
       "      <td>1</td>\n",
       "      <td>1</td>\n",
       "      <td>0</td>\n",
       "      <td>1</td>\n",
       "      <td>0</td>\n",
       "      <td>0</td>\n",
       "      <td>2</td>\n",
       "      <td>...</td>\n",
       "      <td>0</td>\n",
       "      <td>1</td>\n",
       "      <td>1</td>\n",
       "      <td>1</td>\n",
       "      <td>2</td>\n",
       "      <td>0</td>\n",
       "      <td>1</td>\n",
       "      <td>2</td>\n",
       "      <td>0</td>\n",
       "      <td>1</td>\n",
       "    </tr>\n",
       "    <tr>\n",
       "      <th>1</th>\n",
       "      <td>44</td>\n",
       "      <td>0</td>\n",
       "      <td>1</td>\n",
       "      <td>1</td>\n",
       "      <td>1</td>\n",
       "      <td>1</td>\n",
       "      <td>1</td>\n",
       "      <td>1</td>\n",
       "      <td>2</td>\n",
       "      <td>1</td>\n",
       "      <td>...</td>\n",
       "      <td>2</td>\n",
       "      <td>2</td>\n",
       "      <td>2</td>\n",
       "      <td>1</td>\n",
       "      <td>1</td>\n",
       "      <td>1</td>\n",
       "      <td>1</td>\n",
       "      <td>1</td>\n",
       "      <td>2</td>\n",
       "      <td>1</td>\n",
       "    </tr>\n",
       "    <tr>\n",
       "      <th>2</th>\n",
       "      <td>32</td>\n",
       "      <td>0</td>\n",
       "      <td>2</td>\n",
       "      <td>1</td>\n",
       "      <td>1</td>\n",
       "      <td>1</td>\n",
       "      <td>1</td>\n",
       "      <td>0</td>\n",
       "      <td>1</td>\n",
       "      <td>1</td>\n",
       "      <td>...</td>\n",
       "      <td>2</td>\n",
       "      <td>3</td>\n",
       "      <td>1</td>\n",
       "      <td>1</td>\n",
       "      <td>0</td>\n",
       "      <td>0</td>\n",
       "      <td>0</td>\n",
       "      <td>0</td>\n",
       "      <td>1</td>\n",
       "      <td>1</td>\n",
       "    </tr>\n",
       "    <tr>\n",
       "      <th>3</th>\n",
       "      <td>31</td>\n",
       "      <td>0</td>\n",
       "      <td>3</td>\n",
       "      <td>1</td>\n",
       "      <td>0</td>\n",
       "      <td>0</td>\n",
       "      <td>1</td>\n",
       "      <td>0</td>\n",
       "      <td>1</td>\n",
       "      <td>0</td>\n",
       "      <td>...</td>\n",
       "      <td>1</td>\n",
       "      <td>3</td>\n",
       "      <td>0</td>\n",
       "      <td>0</td>\n",
       "      <td>2</td>\n",
       "      <td>1</td>\n",
       "      <td>2</td>\n",
       "      <td>2</td>\n",
       "      <td>1</td>\n",
       "      <td>0</td>\n",
       "    </tr>\n",
       "    <tr>\n",
       "      <th>4</th>\n",
       "      <td>31</td>\n",
       "      <td>0</td>\n",
       "      <td>1</td>\n",
       "      <td>1</td>\n",
       "      <td>1</td>\n",
       "      <td>1</td>\n",
       "      <td>0</td>\n",
       "      <td>0</td>\n",
       "      <td>0</td>\n",
       "      <td>1</td>\n",
       "      <td>...</td>\n",
       "      <td>2</td>\n",
       "      <td>2</td>\n",
       "      <td>1</td>\n",
       "      <td>1</td>\n",
       "      <td>2</td>\n",
       "      <td>0</td>\n",
       "      <td>0</td>\n",
       "      <td>0</td>\n",
       "      <td>2</td>\n",
       "      <td>1</td>\n",
       "    </tr>\n",
       "    <tr>\n",
       "      <th>...</th>\n",
       "      <td>...</td>\n",
       "      <td>...</td>\n",
       "      <td>...</td>\n",
       "      <td>...</td>\n",
       "      <td>...</td>\n",
       "      <td>...</td>\n",
       "      <td>...</td>\n",
       "      <td>...</td>\n",
       "      <td>...</td>\n",
       "      <td>...</td>\n",
       "      <td>...</td>\n",
       "      <td>...</td>\n",
       "      <td>...</td>\n",
       "      <td>...</td>\n",
       "      <td>...</td>\n",
       "      <td>...</td>\n",
       "      <td>...</td>\n",
       "      <td>...</td>\n",
       "      <td>...</td>\n",
       "      <td>...</td>\n",
       "      <td>...</td>\n",
       "    </tr>\n",
       "    <tr>\n",
       "      <th>1254</th>\n",
       "      <td>26</td>\n",
       "      <td>0</td>\n",
       "      <td>3</td>\n",
       "      <td>1</td>\n",
       "      <td>1</td>\n",
       "      <td>0</td>\n",
       "      <td>1</td>\n",
       "      <td>0</td>\n",
       "      <td>1</td>\n",
       "      <td>1</td>\n",
       "      <td>...</td>\n",
       "      <td>2</td>\n",
       "      <td>1</td>\n",
       "      <td>1</td>\n",
       "      <td>1</td>\n",
       "      <td>2</td>\n",
       "      <td>2</td>\n",
       "      <td>1</td>\n",
       "      <td>1</td>\n",
       "      <td>2</td>\n",
       "      <td>1</td>\n",
       "    </tr>\n",
       "    <tr>\n",
       "      <th>1255</th>\n",
       "      <td>32</td>\n",
       "      <td>0</td>\n",
       "      <td>1</td>\n",
       "      <td>1</td>\n",
       "      <td>0</td>\n",
       "      <td>0</td>\n",
       "      <td>0</td>\n",
       "      <td>0</td>\n",
       "      <td>0</td>\n",
       "      <td>0</td>\n",
       "      <td>...</td>\n",
       "      <td>0</td>\n",
       "      <td>3</td>\n",
       "      <td>1</td>\n",
       "      <td>1</td>\n",
       "      <td>2</td>\n",
       "      <td>0</td>\n",
       "      <td>1</td>\n",
       "      <td>1</td>\n",
       "      <td>0</td>\n",
       "      <td>1</td>\n",
       "    </tr>\n",
       "    <tr>\n",
       "      <th>1256</th>\n",
       "      <td>34</td>\n",
       "      <td>0</td>\n",
       "      <td>1</td>\n",
       "      <td>1</td>\n",
       "      <td>0</td>\n",
       "      <td>0</td>\n",
       "      <td>1</td>\n",
       "      <td>0</td>\n",
       "      <td>0</td>\n",
       "      <td>0</td>\n",
       "      <td>...</td>\n",
       "      <td>2</td>\n",
       "      <td>3</td>\n",
       "      <td>0</td>\n",
       "      <td>0</td>\n",
       "      <td>1</td>\n",
       "      <td>1</td>\n",
       "      <td>1</td>\n",
       "      <td>1</td>\n",
       "      <td>1</td>\n",
       "      <td>1</td>\n",
       "    </tr>\n",
       "    <tr>\n",
       "      <th>1257</th>\n",
       "      <td>46</td>\n",
       "      <td>1</td>\n",
       "      <td>1</td>\n",
       "      <td>1</td>\n",
       "      <td>1</td>\n",
       "      <td>1</td>\n",
       "      <td>0</td>\n",
       "      <td>0</td>\n",
       "      <td>1</td>\n",
       "      <td>0</td>\n",
       "      <td>...</td>\n",
       "      <td>2</td>\n",
       "      <td>2</td>\n",
       "      <td>0</td>\n",
       "      <td>1</td>\n",
       "      <td>1</td>\n",
       "      <td>1</td>\n",
       "      <td>1</td>\n",
       "      <td>1</td>\n",
       "      <td>1</td>\n",
       "      <td>1</td>\n",
       "    </tr>\n",
       "    <tr>\n",
       "      <th>1258</th>\n",
       "      <td>25</td>\n",
       "      <td>0</td>\n",
       "      <td>1</td>\n",
       "      <td>1</td>\n",
       "      <td>0</td>\n",
       "      <td>0</td>\n",
       "      <td>1</td>\n",
       "      <td>1</td>\n",
       "      <td>0</td>\n",
       "      <td>0</td>\n",
       "      <td>...</td>\n",
       "      <td>0</td>\n",
       "      <td>2</td>\n",
       "      <td>2</td>\n",
       "      <td>1</td>\n",
       "      <td>2</td>\n",
       "      <td>1</td>\n",
       "      <td>1</td>\n",
       "      <td>1</td>\n",
       "      <td>2</td>\n",
       "      <td>1</td>\n",
       "    </tr>\n",
       "  </tbody>\n",
       "</table>\n",
       "<p>1247 rows × 22 columns</p>\n",
       "</div>"
      ],
      "text/plain": [
       "      Age  Gender  Country  self_employed  family_history  treatment  \\\n",
       "0      37       1        1              1               1          0   \n",
       "1      44       0        1              1               1          1   \n",
       "2      32       0        2              1               1          1   \n",
       "3      31       0        3              1               0          0   \n",
       "4      31       0        1              1               1          1   \n",
       "...   ...     ...      ...            ...             ...        ...   \n",
       "1254   26       0        3              1               1          0   \n",
       "1255   32       0        1              1               0          0   \n",
       "1256   34       0        1              1               0          0   \n",
       "1257   46       1        1              1               1          1   \n",
       "1258   25       0        1              1               0          0   \n",
       "\n",
       "      remote_work  tech_company  benefits  care_options  ...  anonymity  \\\n",
       "0               1             0         0             2  ...          0   \n",
       "1               1             1         2             1  ...          2   \n",
       "2               1             0         1             1  ...          2   \n",
       "3               1             0         1             0  ...          1   \n",
       "4               0             0         0             1  ...          2   \n",
       "...           ...           ...       ...           ...  ...        ...   \n",
       "1254            1             0         1             1  ...          2   \n",
       "1255            0             0         0             0  ...          0   \n",
       "1256            1             0         0             0  ...          2   \n",
       "1257            0             0         1             0  ...          2   \n",
       "1258            1             1         0             0  ...          0   \n",
       "\n",
       "      leave  mental_health_consequence  phys_health_consequence  coworkers  \\\n",
       "0         1                          1                        1          2   \n",
       "1         2                          2                        1          1   \n",
       "2         3                          1                        1          0   \n",
       "3         3                          0                        0          2   \n",
       "4         2                          1                        1          2   \n",
       "...     ...                        ...                      ...        ...   \n",
       "1254      1                          1                        1          2   \n",
       "1255      3                          1                        1          2   \n",
       "1256      3                          0                        0          1   \n",
       "1257      2                          0                        1          1   \n",
       "1258      2                          2                        1          2   \n",
       "\n",
       "      supervisor  mental_health_interview  phys_health_interview  \\\n",
       "0              0                        1                      2   \n",
       "1              1                        1                      1   \n",
       "2              0                        0                      0   \n",
       "3              1                        2                      2   \n",
       "4              0                        0                      0   \n",
       "...          ...                      ...                    ...   \n",
       "1254           2                        1                      1   \n",
       "1255           0                        1                      1   \n",
       "1256           1                        1                      1   \n",
       "1257           1                        1                      1   \n",
       "1258           1                        1                      1   \n",
       "\n",
       "      mental_vs_physical  obs_consequence  \n",
       "0                      0                1  \n",
       "1                      2                1  \n",
       "2                      1                1  \n",
       "3                      1                0  \n",
       "4                      2                1  \n",
       "...                  ...              ...  \n",
       "1254                   2                1  \n",
       "1255                   0                1  \n",
       "1256                   1                1  \n",
       "1257                   1                1  \n",
       "1258                   2                1  \n",
       "\n",
       "[1247 rows x 22 columns]"
      ]
     },
     "execution_count": 121,
     "metadata": {},
     "output_type": "execute_result"
    }
   ],
   "source": [
    "X_1"
   ]
  },
  {
   "cell_type": "code",
   "execution_count": 122,
   "id": "d6caff23",
   "metadata": {},
   "outputs": [
    {
     "data": {
      "text/plain": [
       "0       1\n",
       "1       2\n",
       "2       2\n",
       "3       1\n",
       "4       3\n",
       "       ..\n",
       "1254    4\n",
       "1255    1\n",
       "1256    4\n",
       "1257    4\n",
       "1258    4\n",
       "Name: work_interfere, Length: 1247, dtype: int64"
      ]
     },
     "execution_count": 122,
     "metadata": {},
     "output_type": "execute_result"
    }
   ],
   "source": [
    "Y_1"
   ]
  },
  {
   "cell_type": "markdown",
   "id": "97ab22ef",
   "metadata": {},
   "source": [
    "# Linear Regression"
   ]
  },
  {
   "cell_type": "code",
   "execution_count": 123,
   "id": "2a53cf10",
   "metadata": {},
   "outputs": [],
   "source": [
    "from sklearn.model_selection import train_test_split\n",
    "X_train_1, X_test_1, Y_train_1, Y_test_1 = train_test_split(X_1, Y_1, test_size = 1/3, random_state = 0)"
   ]
  },
  {
   "cell_type": "code",
   "execution_count": 124,
   "id": "50b7709c",
   "metadata": {},
   "outputs": [
    {
     "data": {
      "text/plain": [
       "LinearRegression()"
      ]
     },
     "execution_count": 124,
     "metadata": {},
     "output_type": "execute_result"
    }
   ],
   "source": [
    "#fitting using regresssin library\n",
    "\n",
    "from sklearn.linear_model import LinearRegression\n",
    "regressor = LinearRegression()\n",
    "regressor.fit(X_train_1, Y_train_1)"
   ]
  },
  {
   "cell_type": "code",
   "execution_count": 125,
   "id": "3e94b821",
   "metadata": {},
   "outputs": [],
   "source": [
    "y_pred_1 = regressor.predict(X_test_1)\n"
   ]
  },
  {
   "cell_type": "code",
   "execution_count": 126,
   "id": "ad39a673",
   "metadata": {},
   "outputs": [
    {
     "data": {
      "text/plain": [
       "array([3.08249739, 3.07587965, 3.33562513, 3.64646937, 3.24742326,\n",
       "       2.99273542, 2.86361557, 3.50579135, 3.1259886 , 3.57674175,\n",
       "       3.20855344, 3.54205143, 3.16796896, 3.33040978, 3.11661047,\n",
       "       3.1513176 , 2.96292411, 3.47490185, 2.93952238, 3.21474735,\n",
       "       3.53610596, 3.49019091, 2.99747043, 2.99949317, 3.32235556,\n",
       "       2.84028004, 3.54494756, 3.41349629, 3.18960938, 3.54224393,\n",
       "       3.38595333, 2.97911577, 3.52697666, 3.1514537 , 2.96950436,\n",
       "       3.07622834, 2.91960957, 3.07096558, 3.14348173, 3.11985966,\n",
       "       3.10568356, 2.99261085, 3.55304502, 3.52116513, 3.37223407,\n",
       "       2.95356182, 2.73729433, 3.52902709, 3.28518352, 2.66337208,\n",
       "       3.42575   , 3.09755629, 3.66518761, 3.0198862 , 3.69464938,\n",
       "       2.78170733, 3.35242865, 3.44451483, 3.16727037, 3.49439146,\n",
       "       3.64708063, 3.71362991, 3.05128398, 3.08532696, 3.52342856,\n",
       "       3.17861548, 3.07597646, 3.48879496, 3.18258002, 2.98481309,\n",
       "       3.62465595, 2.87777906, 3.46669522, 3.25464677, 3.58088835,\n",
       "       3.50500481, 3.4743667 , 3.39833415, 3.13213466, 3.44691147,\n",
       "       3.34989209, 3.09150599, 3.22516054, 3.70750576, 3.8300786 ,\n",
       "       3.17289676, 3.12631632, 2.82532457, 2.93784052, 3.62086249,\n",
       "       3.05705013, 3.68077783, 3.32079875, 3.56827688, 3.70752384,\n",
       "       2.7436484 , 3.51649484, 3.10306701, 3.48406178, 3.30935087,\n",
       "       2.92366605, 3.35432035, 3.02823927, 2.99671175, 3.43252871,\n",
       "       3.50898636, 3.47662309, 3.6210798 , 3.4212119 , 3.55921164,\n",
       "       2.90455814, 3.37210359, 3.43922105, 3.6588701 , 3.21382914,\n",
       "       3.13293901, 3.59483375, 2.91718777, 2.78306278, 3.08522961,\n",
       "       2.90481542, 3.12657353, 2.97159038, 3.50239521, 2.96425618,\n",
       "       3.24127431, 3.53501902, 2.93131543, 3.19904481, 3.01978443,\n",
       "       2.96408791, 2.95309565, 3.30884131, 3.23548788, 3.57972683,\n",
       "       3.00792012, 3.78874997, 3.09503539, 3.2080314 , 3.64216423,\n",
       "       3.53198958, 3.69100798, 3.25219352, 3.36229248, 3.28229473,\n",
       "       3.40678213, 3.04193385, 3.60777996, 3.18193073, 3.13562533,\n",
       "       3.27269417, 3.08055211, 2.97425001, 3.35810781, 2.8534686 ,\n",
       "       3.26503955, 3.06899503, 2.79332074, 3.62579733, 3.24493998,\n",
       "       3.47691394, 3.16953956, 2.9219456 , 3.3292805 , 3.21385465,\n",
       "       3.25030599, 2.870051  , 3.0606627 , 3.45818327, 3.5782955 ,\n",
       "       3.20061571, 3.39464709, 2.38372483, 3.1666317 , 3.10128562,\n",
       "       3.03497224, 2.85737901, 3.66181546, 3.51484037, 3.14226181,\n",
       "       2.8816853 , 3.42001062, 2.94282305, 2.88057765, 3.01113599,\n",
       "       3.27847663, 2.66900671, 3.51079326, 2.81580348, 3.16115336,\n",
       "       3.58023495, 3.12138825, 3.50712722, 2.89256943, 3.12052628,\n",
       "       3.35123058, 3.01298749, 3.04503844, 3.74171229, 2.921724  ,\n",
       "       3.31716052, 3.11932995, 3.0518532 , 3.15231825, 3.69752799,\n",
       "       3.0245467 , 3.06232918, 3.15462412, 3.5345737 , 3.49830912,\n",
       "       3.02206793, 3.34231626, 2.6453806 , 2.81735026, 2.97888094,\n",
       "       3.07899792, 3.09468793, 3.40537158, 3.47530627, 3.43760332,\n",
       "       2.99561857, 2.89765566, 3.10663318, 3.10761934, 3.79756389,\n",
       "       3.01859784, 3.40495905, 3.26547323, 3.05550241, 3.0874517 ,\n",
       "       3.0253339 , 3.52315353, 3.18097852, 3.25080716, 3.13741588,\n",
       "       2.83810808, 3.28652177, 3.17640294, 3.37241791, 2.98063382,\n",
       "       3.67795384, 3.28926855, 3.18525464, 3.58641568, 3.10492557,\n",
       "       2.7818381 , 3.41741269, 3.57577184, 3.36691149, 3.11526867,\n",
       "       3.27081705, 2.97713338, 3.56962411, 3.30231132, 3.54527351,\n",
       "       3.65386742, 2.92354382, 3.13694209, 3.64313415, 3.46412894,\n",
       "       3.60346171, 2.63094181, 3.48901159, 3.27734086, 2.97350966,\n",
       "       3.15196543, 2.90785631, 3.42165991, 2.6568209 , 3.36193301,\n",
       "       3.61745526, 3.42999104, 3.36382376, 3.43332231, 3.43277656,\n",
       "       2.87287478, 3.45151599, 2.90976133, 2.92890762, 3.02502842,\n",
       "       2.86676319, 3.04587732, 2.95692419, 3.118449  , 2.58750416,\n",
       "       3.57138165, 3.32100294, 3.26281695, 2.81328847, 3.41495564,\n",
       "       2.82194526, 3.35994995, 3.79108142, 3.49356107, 3.5894944 ,\n",
       "       3.20255267, 3.18981232, 3.36496068, 3.19519953, 3.62552319,\n",
       "       3.21300003, 3.32547535, 3.17149688, 2.86025605, 3.16170085,\n",
       "       3.43033825, 3.2574232 , 2.9084019 , 3.51855402, 3.46895184,\n",
       "       2.92271354, 3.57347174, 2.6866558 , 3.22268045, 3.21628192,\n",
       "       3.00963795, 3.71915907, 3.37028204, 3.14135309, 3.54492964,\n",
       "       3.79756267, 3.00077991, 3.25949038, 2.46541163, 2.86247221,\n",
       "       3.40447556, 3.23194365, 3.15535605, 3.38325524, 3.71860771,\n",
       "       3.47965203, 3.06792429, 3.16097152, 3.16192414, 2.95149406,\n",
       "       3.3673413 , 3.62697728, 2.91155685, 3.03872623, 3.03576851,\n",
       "       3.08772753, 3.43488176, 3.61397571, 3.25237464, 3.44813921,\n",
       "       3.33473055, 3.697932  , 3.02404796, 3.63750431, 2.99783046,\n",
       "       3.62468259, 3.71785194, 3.60982119, 2.91412037, 3.22016378,\n",
       "       3.45384251, 3.08534899, 3.02857087, 3.46182539, 3.43264692,\n",
       "       2.88977454, 3.0124018 , 3.3266333 , 3.00982501, 2.995938  ,\n",
       "       3.3891482 , 3.4857002 , 2.84892195, 3.06711521, 3.57964888,\n",
       "       3.46952697, 3.20490019, 3.15686541, 3.01298781, 3.05367518,\n",
       "       3.38855847, 3.35394027, 3.38422131, 3.00132864, 2.94453469,\n",
       "       3.27468627, 3.4657262 , 3.4389487 , 3.6018056 , 3.27832115,\n",
       "       2.93610099, 3.13502483, 3.38843244, 2.96614524, 3.00492488,\n",
       "       3.48823447, 3.39836779, 3.0302864 , 3.13152873, 2.96930774,\n",
       "       3.59892785, 3.78048691, 3.45131273, 3.38283953, 3.06691707,\n",
       "       2.88788747, 3.1346767 , 3.08954275, 3.4732588 , 3.54657883,\n",
       "       3.07038033, 3.18896771, 3.50906644, 3.00963892, 2.86873237,\n",
       "       3.61935942, 3.00198041, 3.30901363, 3.34630838, 3.66871555,\n",
       "       2.90384834])"
      ]
     },
     "execution_count": 126,
     "metadata": {},
     "output_type": "execute_result"
    }
   ],
   "source": [
    "y_pred_1"
   ]
  },
  {
   "cell_type": "code",
   "execution_count": 127,
   "id": "ddf9008b",
   "metadata": {},
   "outputs": [
    {
     "name": "stdout",
     "output_type": "stream",
     "text": [
      "R2 score : 0.018853796759374375\n"
     ]
    }
   ],
   "source": [
    "\n",
    "from sklearn.metrics import r2_score\n",
    "\n",
    "r2_1 = r2_score(Y_test_1, y_pred_1)\n",
    "print(\"R2 score :\", r2_1)\n",
    "\n"
   ]
  },
  {
   "cell_type": "code",
   "execution_count": 128,
   "id": "5ad29a18",
   "metadata": {},
   "outputs": [
    {
     "name": "stdout",
     "output_type": "stream",
     "text": [
      "RMSE for test =  1.0719795007460895\n"
     ]
    }
   ],
   "source": [
    "from sklearn.metrics import mean_squared_error\n",
    "\n",
    "error_test = np.sqrt(mean_squared_error(Y_test_1, y_pred_1))\n",
    "\n",
    "print('RMSE for test = ',error_test)"
   ]
  },
  {
   "cell_type": "markdown",
   "id": "d144fae2",
   "metadata": {},
   "source": [
    "# Support Vector Machine Model"
   ]
  },
  {
   "cell_type": "code",
   "execution_count": 129,
   "id": "34d8883f",
   "metadata": {},
   "outputs": [],
   "source": [
    "from sklearn.preprocessing import StandardScaler\n",
    "sc = StandardScaler()\n",
    "X_train_1 = sc.fit_transform(X_train_1)\n",
    "X_test_1 = sc.transform(X_test_1)"
   ]
  },
  {
   "cell_type": "code",
   "execution_count": 130,
   "id": "1811e2db",
   "metadata": {},
   "outputs": [
    {
     "data": {
      "text/plain": [
       "SVC()"
      ]
     },
     "execution_count": 130,
     "metadata": {},
     "output_type": "execute_result"
    }
   ],
   "source": [
    "from sklearn.svm import SVC\n",
    "classifier = SVC()\n",
    "classifier.fit(X_train_1, Y_train_1)"
   ]
  },
  {
   "cell_type": "code",
   "execution_count": 131,
   "id": "291d6047",
   "metadata": {},
   "outputs": [],
   "source": [
    "y_pred_S_1 = classifier.predict(X_test_1)\n"
   ]
  },
  {
   "cell_type": "code",
   "execution_count": 132,
   "id": "dc6ce529",
   "metadata": {},
   "outputs": [
    {
     "data": {
      "text/plain": [
       "array([4, 4, 4, 4, 4, 4, 4, 4, 4, 4, 4, 4, 4, 4, 4, 4, 4, 4, 4, 4, 4, 4,\n",
       "       4, 4, 4, 4, 4, 4, 4, 4, 4, 4, 4, 4, 4, 4, 4, 4, 4, 4, 3, 4, 4, 4,\n",
       "       4, 4, 4, 4, 4, 4, 4, 4, 4, 4, 4, 4, 4, 4, 4, 4, 4, 4, 4, 4, 4, 4,\n",
       "       4, 4, 4, 4, 4, 4, 4, 4, 4, 4, 4, 4, 4, 4, 4, 4, 4, 4, 4, 4, 4, 4,\n",
       "       4, 4, 4, 4, 4, 4, 4, 4, 4, 4, 4, 4, 4, 4, 4, 4, 4, 4, 4, 4, 4, 4,\n",
       "       4, 4, 4, 4, 4, 4, 4, 4, 4, 4, 4, 4, 4, 4, 4, 4, 4, 4, 4, 4, 4, 4,\n",
       "       4, 4, 4, 4, 4, 4, 4, 4, 4, 4, 4, 4, 4, 4, 4, 4, 4, 4, 4, 4, 4, 4,\n",
       "       4, 4, 4, 4, 4, 4, 4, 4, 4, 4, 4, 4, 4, 4, 4, 4, 4, 4, 4, 4, 4, 4,\n",
       "       4, 4, 4, 4, 4, 4, 4, 4, 4, 4, 4, 4, 4, 4, 4, 4, 4, 4, 4, 4, 4, 4,\n",
       "       4, 4, 4, 4, 4, 4, 4, 4, 4, 4, 4, 4, 4, 4, 4, 4, 4, 4, 4, 4, 4, 4,\n",
       "       4, 4, 4, 4, 4, 4, 4, 4, 4, 4, 4, 4, 4, 4, 4, 4, 4, 4, 4, 4, 4, 4,\n",
       "       4, 4, 4, 4, 4, 4, 4, 4, 4, 4, 4, 4, 4, 4, 4, 4, 4, 4, 4, 4, 4, 4,\n",
       "       4, 4, 4, 4, 4, 4, 4, 4, 4, 4, 4, 4, 4, 4, 4, 4, 4, 4, 4, 4, 4, 4,\n",
       "       4, 4, 4, 4, 4, 4, 4, 4, 4, 4, 4, 4, 4, 4, 4, 4, 4, 4, 4, 4, 4, 4,\n",
       "       4, 4, 4, 4, 4, 4, 4, 4, 4, 4, 4, 4, 4, 4, 4, 4, 4, 4, 4, 4, 4, 4,\n",
       "       4, 4, 4, 4, 4, 4, 4, 4, 4, 4, 4, 4, 4, 4, 4, 4, 4, 4, 4, 4, 4, 4,\n",
       "       4, 4, 4, 4, 4, 4, 4, 4, 4, 4, 4, 4, 4, 4, 4, 4, 4, 4, 4, 4, 4, 4,\n",
       "       4, 4, 4, 4, 4, 4, 4, 4, 4, 4, 4, 4, 4, 4, 4, 4, 4, 4, 4, 4, 4, 4,\n",
       "       4, 4, 4, 4, 4, 4, 4, 4, 4, 4, 4, 4, 4, 4, 4, 4, 4, 4, 4, 4],\n",
       "      dtype=int64)"
      ]
     },
     "execution_count": 132,
     "metadata": {},
     "output_type": "execute_result"
    }
   ],
   "source": [
    "y_pred_S_1"
   ]
  },
  {
   "cell_type": "code",
   "execution_count": 133,
   "id": "b908f5b4",
   "metadata": {},
   "outputs": [
    {
     "data": {
      "text/plain": [
       "0.5697115384615384"
      ]
     },
     "execution_count": 133,
     "metadata": {},
     "output_type": "execute_result"
    }
   ],
   "source": [
    "from sklearn.metrics import confusion_matrix, accuracy_score\n",
    "accuracy_score(Y_test_1, y_pred_S_1)"
   ]
  },
  {
   "cell_type": "markdown",
   "id": "3df81fe1",
   "metadata": {},
   "source": [
    "# Logistic Regression Model"
   ]
  },
  {
   "cell_type": "code",
   "execution_count": 134,
   "id": "379a6c94",
   "metadata": {},
   "outputs": [
    {
     "data": {
      "text/plain": [
       "LogisticRegression(random_state=0)"
      ]
     },
     "execution_count": 134,
     "metadata": {},
     "output_type": "execute_result"
    }
   ],
   "source": [
    "from sklearn.linear_model import LogisticRegression\n",
    "classifier = LogisticRegression(random_state = 0)\n",
    "classifier.fit(X_train_1, Y_train_1)"
   ]
  },
  {
   "cell_type": "code",
   "execution_count": 135,
   "id": "53914912",
   "metadata": {},
   "outputs": [],
   "source": [
    "y_pred_L_1 = classifier.predict(X_test_1)\n"
   ]
  },
  {
   "cell_type": "code",
   "execution_count": 136,
   "id": "d8043394",
   "metadata": {},
   "outputs": [
    {
     "data": {
      "text/plain": [
       "array([4, 4, 4, 4, 4, 4, 4, 4, 4, 4, 4, 4, 4, 4, 4, 4, 4, 4, 4, 4, 4, 4,\n",
       "       4, 4, 4, 4, 4, 4, 4, 4, 4, 4, 4, 4, 4, 4, 4, 4, 4, 4, 4, 4, 4, 4,\n",
       "       4, 4, 4, 4, 3, 4, 4, 4, 4, 4, 4, 4, 4, 4, 4, 4, 4, 4, 4, 4, 4, 4,\n",
       "       4, 3, 4, 4, 4, 4, 4, 4, 4, 4, 4, 4, 4, 4, 4, 4, 4, 4, 4, 4, 4, 4,\n",
       "       4, 4, 4, 4, 4, 4, 4, 4, 4, 4, 4, 3, 4, 4, 4, 4, 4, 4, 4, 4, 4, 4,\n",
       "       4, 4, 4, 4, 4, 4, 4, 4, 4, 4, 4, 4, 4, 4, 4, 3, 4, 4, 4, 4, 4, 4,\n",
       "       4, 4, 4, 4, 4, 4, 4, 4, 4, 4, 4, 4, 4, 4, 4, 4, 4, 4, 4, 4, 4, 4,\n",
       "       4, 4, 4, 4, 4, 4, 4, 4, 4, 4, 4, 4, 4, 4, 4, 4, 4, 4, 1, 4, 4, 4,\n",
       "       4, 4, 4, 4, 4, 4, 4, 4, 4, 4, 1, 3, 4, 4, 4, 4, 3, 4, 4, 4, 4, 4,\n",
       "       4, 4, 4, 4, 4, 4, 4, 4, 4, 4, 4, 4, 4, 4, 1, 4, 4, 4, 4, 4, 4, 4,\n",
       "       4, 4, 4, 4, 4, 4, 4, 4, 4, 4, 4, 4, 4, 4, 4, 4, 4, 4, 4, 4, 4, 4,\n",
       "       4, 4, 4, 4, 4, 4, 4, 4, 4, 4, 4, 4, 4, 4, 4, 4, 4, 3, 4, 1, 4, 4,\n",
       "       4, 4, 4, 4, 4, 4, 4, 4, 4, 4, 4, 4, 4, 4, 4, 4, 4, 4, 4, 4, 2, 4,\n",
       "       4, 4, 4, 4, 4, 4, 4, 4, 4, 4, 4, 3, 4, 4, 4, 4, 4, 4, 4, 4, 3, 4,\n",
       "       4, 4, 4, 4, 4, 4, 4, 4, 4, 4, 4, 4, 4, 4, 4, 1, 4, 4, 4, 4, 4, 4,\n",
       "       4, 4, 4, 4, 4, 4, 4, 4, 4, 4, 4, 4, 4, 3, 4, 3, 4, 4, 4, 4, 4, 4,\n",
       "       4, 4, 4, 4, 4, 4, 4, 4, 2, 4, 4, 4, 4, 4, 4, 4, 4, 4, 4, 4, 4, 4,\n",
       "       4, 4, 4, 4, 4, 4, 3, 4, 4, 4, 4, 4, 4, 4, 4, 4, 3, 4, 4, 4, 3, 4,\n",
       "       4, 4, 4, 4, 4, 4, 4, 4, 4, 4, 4, 4, 4, 4, 4, 4, 4, 4, 4, 4],\n",
       "      dtype=int64)"
      ]
     },
     "execution_count": 136,
     "metadata": {},
     "output_type": "execute_result"
    }
   ],
   "source": [
    "y_pred_L_1"
   ]
  },
  {
   "cell_type": "code",
   "execution_count": 137,
   "id": "9d930b72",
   "metadata": {},
   "outputs": [
    {
     "name": "stdout",
     "output_type": "stream",
     "text": [
      "Accuracy :  0.5480769230769231\n"
     ]
    }
   ],
   "source": [
    "from sklearn.metrics import accuracy_score\n",
    "print (\"Accuracy : \", accuracy_score(Y_test_1, y_pred_L_1))"
   ]
  },
  {
   "cell_type": "markdown",
   "id": "e237b8a0",
   "metadata": {},
   "source": [
    "# Naive Bayes Model"
   ]
  },
  {
   "cell_type": "code",
   "execution_count": 138,
   "id": "3fbda49a",
   "metadata": {},
   "outputs": [
    {
     "data": {
      "text/plain": [
       "GaussianNB()"
      ]
     },
     "execution_count": 138,
     "metadata": {},
     "output_type": "execute_result"
    }
   ],
   "source": [
    "from sklearn.naive_bayes import GaussianNB\n",
    "\n",
    "\n",
    "# instantiate the model\n",
    "gnb = GaussianNB()\n",
    "\n",
    "\n",
    "# fit the model\n",
    "gnb.fit(X_train_1, Y_train_1)"
   ]
  },
  {
   "cell_type": "code",
   "execution_count": 139,
   "id": "076f15ec",
   "metadata": {},
   "outputs": [
    {
     "data": {
      "text/plain": [
       "array([4, 4, 3, 3, 4, 4, 1, 3, 2, 3, 4, 4, 2, 4, 4, 1, 1, 3, 4, 4, 4, 4,\n",
       "       4, 4, 3, 2, 3, 4, 4, 3, 4, 2, 4, 4, 4, 1, 4, 4, 4, 4, 3, 4, 3, 3,\n",
       "       4, 2, 1, 3, 3, 2, 3, 4, 4, 4, 3, 2, 3, 3, 4, 4, 3, 4, 4, 1, 4, 2,\n",
       "       1, 3, 4, 2, 3, 1, 4, 4, 3, 3, 3, 3, 4, 3, 4, 4, 4, 3, 4, 3, 4, 2,\n",
       "       4, 4, 1, 3, 4, 3, 3, 2, 3, 4, 3, 3, 2, 3, 2, 1, 3, 3, 3, 3, 4, 3,\n",
       "       4, 4, 3, 4, 4, 4, 3, 4, 1, 4, 2, 4, 1, 4, 2, 3, 4, 1, 4, 4, 4, 4,\n",
       "       4, 4, 4, 4, 3, 2, 2, 3, 3, 3, 3, 4, 3, 4, 4, 4, 4, 4, 3, 4, 2, 4,\n",
       "       1, 2, 4, 4, 4, 4, 4, 4, 4, 3, 3, 4, 1, 4, 3, 3, 4, 3, 1, 4, 2, 2,\n",
       "       2, 3, 3, 4, 4, 4, 2, 2, 4, 2, 1, 3, 2, 4, 3, 4, 3, 1, 4, 4, 4, 1,\n",
       "       3, 4, 4, 4, 4, 3, 3, 4, 4, 4, 4, 3, 4, 4, 1, 4, 2, 4, 4, 4, 3, 4,\n",
       "       4, 1, 4, 2, 4, 1, 3, 4, 4, 4, 4, 3, 4, 4, 4, 1, 4, 4, 3, 2, 4, 4,\n",
       "       4, 3, 4, 1, 4, 4, 4, 4, 4, 2, 4, 3, 3, 3, 4, 4, 3, 3, 3, 1, 3, 4,\n",
       "       1, 4, 1, 3, 4, 4, 3, 3, 4, 4, 4, 2, 4, 1, 4, 4, 2, 4, 2, 4, 1, 4,\n",
       "       4, 4, 2, 3, 2, 4, 3, 3, 3, 4, 4, 3, 2, 4, 4, 4, 4, 4, 1, 4, 3, 4,\n",
       "       3, 4, 4, 3, 1, 3, 3, 4, 4, 4, 4, 3, 3, 4, 4, 1, 2, 4, 2, 4, 3, 3,\n",
       "       3, 4, 3, 4, 4, 4, 4, 4, 4, 4, 4, 4, 3, 3, 4, 3, 4, 1, 4, 4, 3, 3,\n",
       "       4, 4, 4, 4, 4, 4, 3, 4, 2, 4, 3, 4, 1, 4, 3, 4, 1, 3, 3, 4, 4, 4,\n",
       "       2, 4, 2, 4, 4, 4, 3, 4, 3, 3, 4, 2, 4, 4, 2, 4, 3, 4, 4, 4, 3, 3,\n",
       "       4, 4, 4, 4, 4, 4, 4, 3, 4, 3, 4, 3, 4, 2, 3, 4, 3, 3, 4, 1],\n",
       "      dtype=int64)"
      ]
     },
     "execution_count": 139,
     "metadata": {},
     "output_type": "execute_result"
    }
   ],
   "source": [
    "y_pred_N_1 = gnb.predict(X_test_1)\n",
    "\n",
    "y_pred_N_1"
   ]
  },
  {
   "cell_type": "code",
   "execution_count": 140,
   "id": "a4f5b3ca",
   "metadata": {},
   "outputs": [
    {
     "name": "stdout",
     "output_type": "stream",
     "text": [
      "Model accuracy score: 0.4519\n"
     ]
    }
   ],
   "source": [
    "from sklearn.metrics import accuracy_score\n",
    "\n",
    "print('Model accuracy score: {0:0.4f}'. format(accuracy_score(Y_test_1, y_pred_N_1)))"
   ]
  },
  {
   "cell_type": "markdown",
   "id": "3e3786fe",
   "metadata": {},
   "source": []
  },
  {
   "cell_type": "code",
   "execution_count": null,
   "id": "7e7b4115",
   "metadata": {},
   "outputs": [],
   "source": []
  },
  {
   "cell_type": "code",
   "execution_count": null,
   "id": "a734b780",
   "metadata": {},
   "outputs": [],
   "source": []
  },
  {
   "cell_type": "code",
   "execution_count": null,
   "id": "996e8df9",
   "metadata": {},
   "outputs": [],
   "source": []
  }
 ],
 "metadata": {
  "kernelspec": {
   "display_name": "Python 3 (ipykernel)",
   "language": "python",
   "name": "python3"
  },
  "language_info": {
   "codemirror_mode": {
    "name": "ipython",
    "version": 3
   },
   "file_extension": ".py",
   "mimetype": "text/x-python",
   "name": "python",
   "nbconvert_exporter": "python",
   "pygments_lexer": "ipython3",
   "version": "3.9.7"
  }
 },
 "nbformat": 4,
 "nbformat_minor": 5
}
